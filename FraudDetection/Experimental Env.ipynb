{
 "cells": [
  {
   "cell_type": "markdown",
   "metadata": {},
   "source": [
    "# **Problem Definition**\n",
    "Traditionally, the design of a cellular network focuses on the optimization of energy and resources that guarantees a smooth operation even during peak hours (i.e. periods with higher traffic load). However, this implies that cells are most of the time overprovisioned of radio resources. Next generation cellular networks ask for a dynamic management and configuration in order to adapt to the varying user demands in the most efficient way with regards to energy savings and utilization of frequency resources. If the network operator were capable of anticipating to those variations in the users’ traffic demands, a more efficient management of the scarce (and expensive) network resources would be possible.\n",
    "\n",
    "Current research in mobile networks looks upon Machine Learning (ML) techniques to help manage those resources. In this case, you will explore the possibilities of ML to detect abnormal behaviors in the utilization of the network that would motivate a change in the configuration of the base station.\n",
    "\n",
    "The purpose of this model is to accurately as possible predict the abnormal behaviors in the utilization of the network that would motivate a change in the configuration of the base station."
   ]
  },
  {
   "cell_type": "markdown",
   "metadata": {},
   "source": [
    "# **Data Description**\n",
    "The dataset has been obtained from a real LTE deployment. During two weeks, different metrics were gathered from a set of 10 base stations, each having a different number of cells, every 15 minutes. The dataset is provided in the form of a csv file, where each row corresponds to a sample obtained from one particular cell at a certain time."
   ]
  },
  {
   "cell_type": "markdown",
   "metadata": {},
   "source": [
    "# **Feature Description**\n",
    "• Time : hour of the day (in the format hh:mm) when the sample was generated.\n",
    "\n",
    "• CellName1: text string used to uniquely identify the cell that generated the current sample. CellName is in the form xαLTE, where x identifies the base station, and α the cell within that base station (see the example in the right figure).\n",
    "\n",
    "• PRBUsageUL and PRBUsageDL: level of resource utilization in that cell measured as the portion of Physical Radio Blocks (PRB) that were in use (%) in the previous 15 minutes. Uplink (UL) and downlink (DL) are measured separately.\n",
    "\n",
    "• meanThrDL and meanThrUL: average carried traffic (in Mbps) during the past 15 minutes. Uplink (UL) and downlink (DL) are measured separately.\n",
    "\n",
    "• maxThrDL and maxThrUL: maximum carried traffic (in Mbps) measured in the last 15 minutes. Uplink (UL) and downlink (DL) are measured separately.\n",
    "\n",
    "• meanUEDL and meanUEUL: average number of user equipment (UE) devices that were simultaneously active during the last 15 minutes. Uplink (UL) and downlink (DL) are measured separately.\n",
    "\n",
    "• maxUEDL and maxUEUL: maximum number of user equipment (UE) devices that were simultaneously active during the last 15 minutes. Uplink (UL) and downlink (DL) are measured separately.\n",
    "\n",
    "• maxUE_UL+DL: maximum number of user equipment (UE) devices that were active simultaneously in the last 15 minutes, regardless of UL and DL.\n",
    "\n",
    "• Unusual: labels for supervised learning. A value of 0 determines that the sample corresponds to normal operation, a value of 1 identifies unusual behavior."
   ]
  },
  {
   "cell_type": "markdown",
   "metadata": {},
   "source": [
    "# **Evaluation**\n",
    "We would be using the below **Classification** evaluation metrics.\n",
    "1. Accuracy\n",
    "2. Precision\n",
    "3. Recall\n",
    "4. ROC Curve\n",
    "5. AUC\n",
    "6. F1-Score"
   ]
  },
  {
   "cell_type": "markdown",
   "metadata": {},
   "source": []
  },
  {
   "cell_type": "markdown",
   "metadata": {},
   "source": [
    "### Environment Preparation"
   ]
  },
  {
   "cell_type": "code",
   "execution_count": 151,
   "metadata": {},
   "outputs": [],
   "source": [
    "# Importing Libraries\n",
    "import pandas as pd\n",
    "import numpy as np\n",
    "import matplotlib.pyplot as plt\n",
    "import seaborn as sns\n",
    "import imblearn\n",
    "import sklearn"
   ]
  },
  {
   "cell_type": "markdown",
   "metadata": {},
   "source": [
    "### Data Exploration\n"
   ]
  },
  {
   "cell_type": "code",
   "execution_count": 152,
   "metadata": {},
   "outputs": [],
   "source": [
    "# Import Data\n",
    "df_train = pd.read_csv(r'C:\\Users\\OlumayowaOyaleke\\Desktop\\Anomaly Detection\\ML-MATT-CompetitionQT1920_train.csv',encoding='windows-1252')\n",
    "df_test = pd.read_csv(r'C:\\Users\\OlumayowaOyaleke\\Desktop\\Anomaly Detection\\ML-MATT-CompetitionQT1920_test.csv',encoding='windows-1252')"
   ]
  },
  {
   "cell_type": "code",
   "execution_count": 153,
   "metadata": {},
   "outputs": [
    {
     "data": {
      "text/html": [
       "<div>\n",
       "<style scoped>\n",
       "    .dataframe tbody tr th:only-of-type {\n",
       "        vertical-align: middle;\n",
       "    }\n",
       "\n",
       "    .dataframe tbody tr th {\n",
       "        vertical-align: top;\n",
       "    }\n",
       "\n",
       "    .dataframe thead th {\n",
       "        text-align: right;\n",
       "    }\n",
       "</style>\n",
       "<table border=\"1\" class=\"dataframe\">\n",
       "  <thead>\n",
       "    <tr style=\"text-align: right;\">\n",
       "      <th></th>\n",
       "      <th>Time</th>\n",
       "      <th>CellName</th>\n",
       "      <th>PRBUsageUL</th>\n",
       "      <th>PRBUsageDL</th>\n",
       "      <th>meanThr_DL</th>\n",
       "      <th>meanThr_UL</th>\n",
       "      <th>maxThr_DL</th>\n",
       "      <th>maxThr_UL</th>\n",
       "      <th>meanUE_DL</th>\n",
       "      <th>meanUE_UL</th>\n",
       "      <th>maxUE_DL</th>\n",
       "      <th>maxUE_UL</th>\n",
       "      <th>maxUE_UL+DL</th>\n",
       "    </tr>\n",
       "  </thead>\n",
       "  <tbody>\n",
       "    <tr>\n",
       "      <th>0</th>\n",
       "      <td>3:00</td>\n",
       "      <td>6ALTE</td>\n",
       "      <td>3.781</td>\n",
       "      <td>1.493</td>\n",
       "      <td>0.575</td>\n",
       "      <td>0.042</td>\n",
       "      <td>22.659</td>\n",
       "      <td>0.743</td>\n",
       "      <td>0.985</td>\n",
       "      <td>0.010</td>\n",
       "      <td>3.0</td>\n",
       "      <td>2.0</td>\n",
       "      <td>5.0</td>\n",
       "    </tr>\n",
       "    <tr>\n",
       "      <th>1</th>\n",
       "      <td>20:30</td>\n",
       "      <td>6ULTE</td>\n",
       "      <td>2.021</td>\n",
       "      <td>3.335</td>\n",
       "      <td>0.569</td>\n",
       "      <td>0.075</td>\n",
       "      <td>29.265</td>\n",
       "      <td>1.049</td>\n",
       "      <td>1.314</td>\n",
       "      <td>0.010</td>\n",
       "      <td>6.0</td>\n",
       "      <td>3.0</td>\n",
       "      <td>9.0</td>\n",
       "    </tr>\n",
       "    <tr>\n",
       "      <th>2</th>\n",
       "      <td>11:30</td>\n",
       "      <td>2ALTE</td>\n",
       "      <td>0.505</td>\n",
       "      <td>0.404</td>\n",
       "      <td>0.014</td>\n",
       "      <td>0.010</td>\n",
       "      <td>0.227</td>\n",
       "      <td>0.097</td>\n",
       "      <td>1.011</td>\n",
       "      <td>0.010</td>\n",
       "      <td>2.0</td>\n",
       "      <td>1.0</td>\n",
       "      <td>3.0</td>\n",
       "    </tr>\n",
       "    <tr>\n",
       "      <th>3</th>\n",
       "      <td>6:45</td>\n",
       "      <td>3CLTE</td>\n",
       "      <td>1.011</td>\n",
       "      <td>0.505</td>\n",
       "      <td>0.238</td>\n",
       "      <td>0.021</td>\n",
       "      <td>20.962</td>\n",
       "      <td>0.609</td>\n",
       "      <td>1.011</td>\n",
       "      <td>1.011</td>\n",
       "      <td>2.0</td>\n",
       "      <td>1.0</td>\n",
       "      <td>3.0</td>\n",
       "    </tr>\n",
       "    <tr>\n",
       "      <th>4</th>\n",
       "      <td>15:45</td>\n",
       "      <td>6CLTE</td>\n",
       "      <td>3.881</td>\n",
       "      <td>0.498</td>\n",
       "      <td>0.076</td>\n",
       "      <td>0.041</td>\n",
       "      <td>3.936</td>\n",
       "      <td>1.768</td>\n",
       "      <td>1.025</td>\n",
       "      <td>0.010</td>\n",
       "      <td>3.0</td>\n",
       "      <td>2.0</td>\n",
       "      <td>5.0</td>\n",
       "    </tr>\n",
       "    <tr>\n",
       "      <th>...</th>\n",
       "      <td>...</td>\n",
       "      <td>...</td>\n",
       "      <td>...</td>\n",
       "      <td>...</td>\n",
       "      <td>...</td>\n",
       "      <td>...</td>\n",
       "      <td>...</td>\n",
       "      <td>...</td>\n",
       "      <td>...</td>\n",
       "      <td>...</td>\n",
       "      <td>...</td>\n",
       "      <td>...</td>\n",
       "      <td>...</td>\n",
       "    </tr>\n",
       "    <tr>\n",
       "      <th>9153</th>\n",
       "      <td>7:30</td>\n",
       "      <td>8BLTE</td>\n",
       "      <td>7.074</td>\n",
       "      <td>1.011</td>\n",
       "      <td>0.345</td>\n",
       "      <td>0.047</td>\n",
       "      <td>17.576</td>\n",
       "      <td>0.927</td>\n",
       "      <td>1.152</td>\n",
       "      <td>1.031</td>\n",
       "      <td>5.0</td>\n",
       "      <td>3.0</td>\n",
       "      <td>8.0</td>\n",
       "    </tr>\n",
       "    <tr>\n",
       "      <th>9154</th>\n",
       "      <td>0:30</td>\n",
       "      <td>7CLTE</td>\n",
       "      <td>0.100</td>\n",
       "      <td>0.498</td>\n",
       "      <td>0.047</td>\n",
       "      <td>0.011</td>\n",
       "      <td>4.780</td>\n",
       "      <td>0.341</td>\n",
       "      <td>1.045</td>\n",
       "      <td>0.010</td>\n",
       "      <td>3.0</td>\n",
       "      <td>2.0</td>\n",
       "      <td>5.0</td>\n",
       "    </tr>\n",
       "    <tr>\n",
       "      <th>9155</th>\n",
       "      <td>2:00</td>\n",
       "      <td>5ALTE</td>\n",
       "      <td>1.213</td>\n",
       "      <td>0.505</td>\n",
       "      <td>0.209</td>\n",
       "      <td>0.024</td>\n",
       "      <td>6.720</td>\n",
       "      <td>0.421</td>\n",
       "      <td>1.021</td>\n",
       "      <td>1.011</td>\n",
       "      <td>2.0</td>\n",
       "      <td>1.0</td>\n",
       "      <td>3.0</td>\n",
       "    </tr>\n",
       "    <tr>\n",
       "      <th>9156</th>\n",
       "      <td>3:30</td>\n",
       "      <td>8ALTE</td>\n",
       "      <td>5.457</td>\n",
       "      <td>1.112</td>\n",
       "      <td>0.474</td>\n",
       "      <td>0.023</td>\n",
       "      <td>4.608</td>\n",
       "      <td>0.300</td>\n",
       "      <td>1.071</td>\n",
       "      <td>1.021</td>\n",
       "      <td>4.0</td>\n",
       "      <td>2.0</td>\n",
       "      <td>6.0</td>\n",
       "    </tr>\n",
       "    <tr>\n",
       "      <th>9157</th>\n",
       "      <td>6:30</td>\n",
       "      <td>8BLTE</td>\n",
       "      <td>1.415</td>\n",
       "      <td>0.404</td>\n",
       "      <td>0.041</td>\n",
       "      <td>0.009</td>\n",
       "      <td>4.566</td>\n",
       "      <td>0.186</td>\n",
       "      <td>1.021</td>\n",
       "      <td>1.011</td>\n",
       "      <td>3.0</td>\n",
       "      <td>2.0</td>\n",
       "      <td>5.0</td>\n",
       "    </tr>\n",
       "  </tbody>\n",
       "</table>\n",
       "<p>9158 rows × 13 columns</p>\n",
       "</div>"
      ],
      "text/plain": [
       "       Time CellName  PRBUsageUL  PRBUsageDL  meanThr_DL  meanThr_UL  \\\n",
       "0      3:00    6ALTE       3.781       1.493       0.575       0.042   \n",
       "1     20:30    6ULTE       2.021       3.335       0.569       0.075   \n",
       "2     11:30    2ALTE       0.505       0.404       0.014       0.010   \n",
       "3      6:45    3CLTE       1.011       0.505       0.238       0.021   \n",
       "4     15:45    6CLTE       3.881       0.498       0.076       0.041   \n",
       "...     ...      ...         ...         ...         ...         ...   \n",
       "9153   7:30    8BLTE       7.074       1.011       0.345       0.047   \n",
       "9154   0:30    7CLTE       0.100       0.498       0.047       0.011   \n",
       "9155   2:00    5ALTE       1.213       0.505       0.209       0.024   \n",
       "9156   3:30    8ALTE       5.457       1.112       0.474       0.023   \n",
       "9157   6:30    8BLTE       1.415       0.404       0.041       0.009   \n",
       "\n",
       "      maxThr_DL  maxThr_UL  meanUE_DL  meanUE_UL  maxUE_DL  maxUE_UL  \\\n",
       "0        22.659      0.743      0.985      0.010       3.0       2.0   \n",
       "1        29.265      1.049      1.314      0.010       6.0       3.0   \n",
       "2         0.227      0.097      1.011      0.010       2.0       1.0   \n",
       "3        20.962      0.609      1.011      1.011       2.0       1.0   \n",
       "4         3.936      1.768      1.025      0.010       3.0       2.0   \n",
       "...         ...        ...        ...        ...       ...       ...   \n",
       "9153     17.576      0.927      1.152      1.031       5.0       3.0   \n",
       "9154      4.780      0.341      1.045      0.010       3.0       2.0   \n",
       "9155      6.720      0.421      1.021      1.011       2.0       1.0   \n",
       "9156      4.608      0.300      1.071      1.021       4.0       2.0   \n",
       "9157      4.566      0.186      1.021      1.011       3.0       2.0   \n",
       "\n",
       "      maxUE_UL+DL  \n",
       "0             5.0  \n",
       "1             9.0  \n",
       "2             3.0  \n",
       "3             3.0  \n",
       "4             5.0  \n",
       "...           ...  \n",
       "9153          8.0  \n",
       "9154          5.0  \n",
       "9155          3.0  \n",
       "9156          6.0  \n",
       "9157          5.0  \n",
       "\n",
       "[9158 rows x 13 columns]"
      ]
     },
     "execution_count": 153,
     "metadata": {},
     "output_type": "execute_result"
    }
   ],
   "source": [
    "# Explore Training Dataframe\n",
    "df_train\n",
    "df_test"
   ]
  },
  {
   "cell_type": "code",
   "execution_count": 154,
   "metadata": {},
   "outputs": [
    {
     "data": {
      "text/html": [
       "<div>\n",
       "<style scoped>\n",
       "    .dataframe tbody tr th:only-of-type {\n",
       "        vertical-align: middle;\n",
       "    }\n",
       "\n",
       "    .dataframe tbody tr th {\n",
       "        vertical-align: top;\n",
       "    }\n",
       "\n",
       "    .dataframe thead th {\n",
       "        text-align: right;\n",
       "    }\n",
       "</style>\n",
       "<table border=\"1\" class=\"dataframe\">\n",
       "  <thead>\n",
       "    <tr style=\"text-align: right;\">\n",
       "      <th></th>\n",
       "      <th>0</th>\n",
       "      <th>1</th>\n",
       "      <th>2</th>\n",
       "      <th>3</th>\n",
       "      <th>4</th>\n",
       "    </tr>\n",
       "  </thead>\n",
       "  <tbody>\n",
       "    <tr>\n",
       "      <th>Time</th>\n",
       "      <td>10:45</td>\n",
       "      <td>9:45</td>\n",
       "      <td>7:45</td>\n",
       "      <td>2:45</td>\n",
       "      <td>3:30</td>\n",
       "    </tr>\n",
       "    <tr>\n",
       "      <th>CellName</th>\n",
       "      <td>3BLTE</td>\n",
       "      <td>1BLTE</td>\n",
       "      <td>9BLTE</td>\n",
       "      <td>4ALTE</td>\n",
       "      <td>10BLTE</td>\n",
       "    </tr>\n",
       "    <tr>\n",
       "      <th>PRBUsageUL</th>\n",
       "      <td>11.642</td>\n",
       "      <td>21.791</td>\n",
       "      <td>0.498</td>\n",
       "      <td>1.891</td>\n",
       "      <td>0.303</td>\n",
       "    </tr>\n",
       "    <tr>\n",
       "      <th>PRBUsageDL</th>\n",
       "      <td>1.393</td>\n",
       "      <td>1.891</td>\n",
       "      <td>0.398</td>\n",
       "      <td>1.095</td>\n",
       "      <td>0.404</td>\n",
       "    </tr>\n",
       "    <tr>\n",
       "      <th>meanThr_DL</th>\n",
       "      <td>0.37</td>\n",
       "      <td>0.537</td>\n",
       "      <td>0.015</td>\n",
       "      <td>0.94</td>\n",
       "      <td>0.016</td>\n",
       "    </tr>\n",
       "    <tr>\n",
       "      <th>meanThr_UL</th>\n",
       "      <td>0.041</td>\n",
       "      <td>0.268</td>\n",
       "      <td>0.01</td>\n",
       "      <td>0.024</td>\n",
       "      <td>0.013</td>\n",
       "    </tr>\n",
       "    <tr>\n",
       "      <th>maxThr_DL</th>\n",
       "      <td>15.655</td>\n",
       "      <td>10.273</td>\n",
       "      <td>0.262</td>\n",
       "      <td>60.715</td>\n",
       "      <td>0.348</td>\n",
       "    </tr>\n",
       "    <tr>\n",
       "      <th>maxThr_UL</th>\n",
       "      <td>0.644</td>\n",
       "      <td>1.154</td>\n",
       "      <td>0.164</td>\n",
       "      <td>0.825</td>\n",
       "      <td>0.168</td>\n",
       "    </tr>\n",
       "    <tr>\n",
       "      <th>meanUE_DL</th>\n",
       "      <td>1.114</td>\n",
       "      <td>1.353</td>\n",
       "      <td>0.995</td>\n",
       "      <td>1.035</td>\n",
       "      <td>1.011</td>\n",
       "    </tr>\n",
       "    <tr>\n",
       "      <th>meanUE_UL</th>\n",
       "      <td>1.025</td>\n",
       "      <td>1.085</td>\n",
       "      <td>0.995</td>\n",
       "      <td>0.995</td>\n",
       "      <td>1.011</td>\n",
       "    </tr>\n",
       "    <tr>\n",
       "      <th>maxUE_DL</th>\n",
       "      <td>4.0</td>\n",
       "      <td>6.0</td>\n",
       "      <td>1.0</td>\n",
       "      <td>2.0</td>\n",
       "      <td>2.0</td>\n",
       "    </tr>\n",
       "    <tr>\n",
       "      <th>maxUE_UL</th>\n",
       "      <td>3.0</td>\n",
       "      <td>4.0</td>\n",
       "      <td>1.0</td>\n",
       "      <td>2.0</td>\n",
       "      <td>1.0</td>\n",
       "    </tr>\n",
       "    <tr>\n",
       "      <th>maxUE_UL+DL</th>\n",
       "      <td>7</td>\n",
       "      <td>10</td>\n",
       "      <td>2</td>\n",
       "      <td>4</td>\n",
       "      <td>3</td>\n",
       "    </tr>\n",
       "    <tr>\n",
       "      <th>Unusual</th>\n",
       "      <td>1</td>\n",
       "      <td>1</td>\n",
       "      <td>1</td>\n",
       "      <td>1</td>\n",
       "      <td>0</td>\n",
       "    </tr>\n",
       "  </tbody>\n",
       "</table>\n",
       "</div>"
      ],
      "text/plain": [
       "                  0       1      2       3       4\n",
       "Time          10:45    9:45   7:45    2:45    3:30\n",
       "CellName      3BLTE   1BLTE  9BLTE   4ALTE  10BLTE\n",
       "PRBUsageUL   11.642  21.791  0.498   1.891   0.303\n",
       "PRBUsageDL    1.393   1.891  0.398   1.095   0.404\n",
       "meanThr_DL     0.37   0.537  0.015    0.94   0.016\n",
       "meanThr_UL    0.041   0.268   0.01   0.024   0.013\n",
       "maxThr_DL    15.655  10.273  0.262  60.715   0.348\n",
       "maxThr_UL     0.644   1.154  0.164   0.825   0.168\n",
       "meanUE_DL     1.114   1.353  0.995   1.035   1.011\n",
       "meanUE_UL     1.025   1.085  0.995   0.995   1.011\n",
       "maxUE_DL        4.0     6.0    1.0     2.0     2.0\n",
       "maxUE_UL        3.0     4.0    1.0     2.0     1.0\n",
       "maxUE_UL+DL       7      10      2       4       3\n",
       "Unusual           1       1      1       1       0"
      ]
     },
     "execution_count": 154,
     "metadata": {},
     "output_type": "execute_result"
    }
   ],
   "source": [
    "df_train.head().T"
   ]
  },
  {
   "cell_type": "code",
   "execution_count": 155,
   "metadata": {},
   "outputs": [
    {
     "name": "stdout",
     "output_type": "stream",
     "text": [
      "<class 'pandas.core.frame.DataFrame'>\n",
      "RangeIndex: 36904 entries, 0 to 36903\n",
      "Data columns (total 14 columns):\n",
      " #   Column       Non-Null Count  Dtype  \n",
      "---  ------       --------------  -----  \n",
      " 0   Time         36904 non-null  object \n",
      " 1   CellName     36904 non-null  object \n",
      " 2   PRBUsageUL   36904 non-null  float64\n",
      " 3   PRBUsageDL   36904 non-null  float64\n",
      " 4   meanThr_DL   36904 non-null  float64\n",
      " 5   meanThr_UL   36904 non-null  float64\n",
      " 6   maxThr_DL    36904 non-null  float64\n",
      " 7   maxThr_UL    36904 non-null  float64\n",
      " 8   meanUE_DL    36904 non-null  float64\n",
      " 9   meanUE_UL    36904 non-null  float64\n",
      " 10  maxUE_DL     36815 non-null  float64\n",
      " 11  maxUE_UL     36815 non-null  float64\n",
      " 12  maxUE_UL+DL  36899 non-null  object \n",
      " 13  Unusual      36904 non-null  int64  \n",
      "dtypes: float64(10), int64(1), object(3)\n",
      "memory usage: 3.9+ MB\n"
     ]
    }
   ],
   "source": [
    "df_train.info()"
   ]
  },
  {
   "cell_type": "code",
   "execution_count": 156,
   "metadata": {},
   "outputs": [
    {
     "data": {
      "text/html": [
       "<div>\n",
       "<style scoped>\n",
       "    .dataframe tbody tr th:only-of-type {\n",
       "        vertical-align: middle;\n",
       "    }\n",
       "\n",
       "    .dataframe tbody tr th {\n",
       "        vertical-align: top;\n",
       "    }\n",
       "\n",
       "    .dataframe thead th {\n",
       "        text-align: right;\n",
       "    }\n",
       "</style>\n",
       "<table border=\"1\" class=\"dataframe\">\n",
       "  <thead>\n",
       "    <tr style=\"text-align: right;\">\n",
       "      <th></th>\n",
       "      <th>PRBUsageUL</th>\n",
       "      <th>PRBUsageDL</th>\n",
       "      <th>meanThr_DL</th>\n",
       "      <th>meanThr_UL</th>\n",
       "      <th>maxThr_DL</th>\n",
       "      <th>maxThr_UL</th>\n",
       "      <th>meanUE_DL</th>\n",
       "      <th>meanUE_UL</th>\n",
       "      <th>maxUE_DL</th>\n",
       "      <th>maxUE_UL</th>\n",
       "      <th>Unusual</th>\n",
       "    </tr>\n",
       "  </thead>\n",
       "  <tbody>\n",
       "    <tr>\n",
       "      <th>count</th>\n",
       "      <td>36904.000000</td>\n",
       "      <td>36904.000000</td>\n",
       "      <td>36904.000000</td>\n",
       "      <td>36904.000000</td>\n",
       "      <td>36904.000000</td>\n",
       "      <td>36904.000000</td>\n",
       "      <td>36904.000000</td>\n",
       "      <td>36904.000000</td>\n",
       "      <td>36815.000000</td>\n",
       "      <td>36815.000000</td>\n",
       "      <td>36904.000000</td>\n",
       "    </tr>\n",
       "    <tr>\n",
       "      <th>mean</th>\n",
       "      <td>7.835090</td>\n",
       "      <td>2.106396</td>\n",
       "      <td>0.560525</td>\n",
       "      <td>0.067610</td>\n",
       "      <td>17.764369</td>\n",
       "      <td>1.791974</td>\n",
       "      <td>1.173441</td>\n",
       "      <td>0.665143</td>\n",
       "      <td>4.190819</td>\n",
       "      <td>3.063371</td>\n",
       "      <td>0.275932</td>\n",
       "    </tr>\n",
       "    <tr>\n",
       "      <th>std</th>\n",
       "      <td>8.428206</td>\n",
       "      <td>2.247514</td>\n",
       "      <td>0.727623</td>\n",
       "      <td>0.186555</td>\n",
       "      <td>15.739932</td>\n",
       "      <td>5.028928</td>\n",
       "      <td>0.214065</td>\n",
       "      <td>0.535493</td>\n",
       "      <td>1.772484</td>\n",
       "      <td>1.387446</td>\n",
       "      <td>0.446989</td>\n",
       "    </tr>\n",
       "    <tr>\n",
       "      <th>min</th>\n",
       "      <td>0.000000</td>\n",
       "      <td>0.000000</td>\n",
       "      <td>0.000000</td>\n",
       "      <td>0.000000</td>\n",
       "      <td>0.000000</td>\n",
       "      <td>0.000000</td>\n",
       "      <td>0.000000</td>\n",
       "      <td>0.000000</td>\n",
       "      <td>0.000000</td>\n",
       "      <td>0.000000</td>\n",
       "      <td>0.000000</td>\n",
       "    </tr>\n",
       "    <tr>\n",
       "      <th>25%</th>\n",
       "      <td>1.213000</td>\n",
       "      <td>0.707000</td>\n",
       "      <td>0.140000</td>\n",
       "      <td>0.021000</td>\n",
       "      <td>5.710750</td>\n",
       "      <td>0.362000</td>\n",
       "      <td>1.041000</td>\n",
       "      <td>0.010000</td>\n",
       "      <td>3.000000</td>\n",
       "      <td>2.000000</td>\n",
       "      <td>0.000000</td>\n",
       "    </tr>\n",
       "    <tr>\n",
       "      <th>50%</th>\n",
       "      <td>4.547000</td>\n",
       "      <td>1.314000</td>\n",
       "      <td>0.352000</td>\n",
       "      <td>0.040000</td>\n",
       "      <td>14.170000</td>\n",
       "      <td>0.703000</td>\n",
       "      <td>1.112000</td>\n",
       "      <td>1.011000</td>\n",
       "      <td>4.000000</td>\n",
       "      <td>3.000000</td>\n",
       "      <td>0.000000</td>\n",
       "    </tr>\n",
       "    <tr>\n",
       "      <th>75%</th>\n",
       "      <td>12.126000</td>\n",
       "      <td>2.728000</td>\n",
       "      <td>0.718000</td>\n",
       "      <td>0.075000</td>\n",
       "      <td>25.059500</td>\n",
       "      <td>1.242000</td>\n",
       "      <td>1.263000</td>\n",
       "      <td>1.051000</td>\n",
       "      <td>5.000000</td>\n",
       "      <td>4.000000</td>\n",
       "      <td>1.000000</td>\n",
       "    </tr>\n",
       "    <tr>\n",
       "      <th>max</th>\n",
       "      <td>51.333000</td>\n",
       "      <td>77.505000</td>\n",
       "      <td>19.601000</td>\n",
       "      <td>12.461000</td>\n",
       "      <td>140.008000</td>\n",
       "      <td>48.253000</td>\n",
       "      <td>2.915000</td>\n",
       "      <td>2.668000</td>\n",
       "      <td>12.000000</td>\n",
       "      <td>12.000000</td>\n",
       "      <td>1.000000</td>\n",
       "    </tr>\n",
       "  </tbody>\n",
       "</table>\n",
       "</div>"
      ],
      "text/plain": [
       "         PRBUsageUL    PRBUsageDL    meanThr_DL    meanThr_UL     maxThr_DL  \\\n",
       "count  36904.000000  36904.000000  36904.000000  36904.000000  36904.000000   \n",
       "mean       7.835090      2.106396      0.560525      0.067610     17.764369   \n",
       "std        8.428206      2.247514      0.727623      0.186555     15.739932   \n",
       "min        0.000000      0.000000      0.000000      0.000000      0.000000   \n",
       "25%        1.213000      0.707000      0.140000      0.021000      5.710750   \n",
       "50%        4.547000      1.314000      0.352000      0.040000     14.170000   \n",
       "75%       12.126000      2.728000      0.718000      0.075000     25.059500   \n",
       "max       51.333000     77.505000     19.601000     12.461000    140.008000   \n",
       "\n",
       "          maxThr_UL     meanUE_DL     meanUE_UL      maxUE_DL      maxUE_UL  \\\n",
       "count  36904.000000  36904.000000  36904.000000  36815.000000  36815.000000   \n",
       "mean       1.791974      1.173441      0.665143      4.190819      3.063371   \n",
       "std        5.028928      0.214065      0.535493      1.772484      1.387446   \n",
       "min        0.000000      0.000000      0.000000      0.000000      0.000000   \n",
       "25%        0.362000      1.041000      0.010000      3.000000      2.000000   \n",
       "50%        0.703000      1.112000      1.011000      4.000000      3.000000   \n",
       "75%        1.242000      1.263000      1.051000      5.000000      4.000000   \n",
       "max       48.253000      2.915000      2.668000     12.000000     12.000000   \n",
       "\n",
       "            Unusual  \n",
       "count  36904.000000  \n",
       "mean       0.275932  \n",
       "std        0.446989  \n",
       "min        0.000000  \n",
       "25%        0.000000  \n",
       "50%        0.000000  \n",
       "75%        1.000000  \n",
       "max        1.000000  "
      ]
     },
     "execution_count": 156,
     "metadata": {},
     "output_type": "execute_result"
    }
   ],
   "source": [
    "df_train.describe()"
   ]
  },
  {
   "cell_type": "code",
   "execution_count": 157,
   "metadata": {},
   "outputs": [
    {
     "data": {
      "text/plain": [
       "0        10:45\n",
       "1         9:45\n",
       "2         7:45\n",
       "3         2:45\n",
       "4         3:30\n",
       "         ...  \n",
       "36899    21:30\n",
       "36900     9:45\n",
       "36901    13:30\n",
       "36902    12:30\n",
       "36903    15:45\n",
       "Name: Time, Length: 36904, dtype: object"
      ]
     },
     "execution_count": 157,
     "metadata": {},
     "output_type": "execute_result"
    }
   ],
   "source": [
    "df_train.Time"
   ]
  },
  {
   "cell_type": "code",
   "execution_count": 158,
   "metadata": {},
   "outputs": [
    {
     "data": {
      "text/plain": [
       "12:00    423\n",
       "3:00     417\n",
       "9:45     410\n",
       "7:30     409\n",
       "0:30     407\n",
       "        ... \n",
       "20:30    358\n",
       "16:30    358\n",
       "19:00    357\n",
       "15:45    355\n",
       "21:00    351\n",
       "Name: Time, Length: 96, dtype: int64"
      ]
     },
     "execution_count": 158,
     "metadata": {},
     "output_type": "execute_result"
    }
   ],
   "source": [
    "df_train.Time.value_counts()"
   ]
  },
  {
   "cell_type": "code",
   "execution_count": 159,
   "metadata": {},
   "outputs": [],
   "source": [
    "#Parse TimeStamp\n",
    "from datetime import datetime\n",
    "\n",
    "df_train.Time = pd.to_datetime(df_train.Time.str.lower(), format=\"%H:%M\",)"
   ]
  },
  {
   "cell_type": "code",
   "execution_count": 160,
   "metadata": {},
   "outputs": [
    {
     "data": {
      "text/plain": [
       "0       1900-01-01 10:45:00\n",
       "1       1900-01-01 09:45:00\n",
       "2       1900-01-01 07:45:00\n",
       "3       1900-01-01 02:45:00\n",
       "4       1900-01-01 03:30:00\n",
       "                ...        \n",
       "36899   1900-01-01 21:30:00\n",
       "36900   1900-01-01 09:45:00\n",
       "36901   1900-01-01 13:30:00\n",
       "36902   1900-01-01 12:30:00\n",
       "36903   1900-01-01 15:45:00\n",
       "Name: Time, Length: 36904, dtype: datetime64[ns]"
      ]
     },
     "execution_count": 160,
     "metadata": {},
     "output_type": "execute_result"
    }
   ],
   "source": [
    "df_train.Time"
   ]
  },
  {
   "cell_type": "markdown",
   "metadata": {},
   "source": [
    "### Handle Data Types"
   ]
  },
  {
   "cell_type": "code",
   "execution_count": 161,
   "metadata": {},
   "outputs": [
    {
     "name": "stdout",
     "output_type": "stream",
     "text": [
      "<class 'pandas.core.frame.DataFrame'>\n",
      "RangeIndex: 36904 entries, 0 to 36903\n",
      "Data columns (total 14 columns):\n",
      " #   Column       Non-Null Count  Dtype         \n",
      "---  ------       --------------  -----         \n",
      " 0   Time         36904 non-null  datetime64[ns]\n",
      " 1   CellName     36904 non-null  object        \n",
      " 2   PRBUsageUL   36904 non-null  float64       \n",
      " 3   PRBUsageDL   36904 non-null  float64       \n",
      " 4   meanThr_DL   36904 non-null  float64       \n",
      " 5   meanThr_UL   36904 non-null  float64       \n",
      " 6   maxThr_DL    36904 non-null  float64       \n",
      " 7   maxThr_UL    36904 non-null  float64       \n",
      " 8   meanUE_DL    36904 non-null  float64       \n",
      " 9   meanUE_UL    36904 non-null  float64       \n",
      " 10  maxUE_DL     36815 non-null  float64       \n",
      " 11  maxUE_UL     36815 non-null  float64       \n",
      " 12  maxUE_UL+DL  36899 non-null  object        \n",
      " 13  Unusual      36904 non-null  int64         \n",
      "dtypes: datetime64[ns](1), float64(10), int64(1), object(2)\n",
      "memory usage: 3.9+ MB\n"
     ]
    }
   ],
   "source": [
    "df_train.info()"
   ]
  },
  {
   "cell_type": "code",
   "execution_count": 162,
   "metadata": {},
   "outputs": [
    {
     "data": {
      "text/html": [
       "<div>\n",
       "<style scoped>\n",
       "    .dataframe tbody tr th:only-of-type {\n",
       "        vertical-align: middle;\n",
       "    }\n",
       "\n",
       "    .dataframe tbody tr th {\n",
       "        vertical-align: top;\n",
       "    }\n",
       "\n",
       "    .dataframe thead th {\n",
       "        text-align: right;\n",
       "    }\n",
       "</style>\n",
       "<table border=\"1\" class=\"dataframe\">\n",
       "  <thead>\n",
       "    <tr style=\"text-align: right;\">\n",
       "      <th></th>\n",
       "      <th>Time</th>\n",
       "      <th>CellName</th>\n",
       "      <th>PRBUsageUL</th>\n",
       "      <th>PRBUsageDL</th>\n",
       "      <th>meanThr_DL</th>\n",
       "      <th>meanThr_UL</th>\n",
       "      <th>maxThr_DL</th>\n",
       "      <th>maxThr_UL</th>\n",
       "      <th>meanUE_DL</th>\n",
       "      <th>meanUE_UL</th>\n",
       "      <th>maxUE_DL</th>\n",
       "      <th>maxUE_UL</th>\n",
       "      <th>maxUE_UL+DL</th>\n",
       "      <th>Unusual</th>\n",
       "    </tr>\n",
       "  </thead>\n",
       "  <tbody>\n",
       "    <tr>\n",
       "      <th>0</th>\n",
       "      <td>1900-01-01 10:45:00</td>\n",
       "      <td>3BLTE</td>\n",
       "      <td>11.642</td>\n",
       "      <td>1.393</td>\n",
       "      <td>0.370</td>\n",
       "      <td>0.041</td>\n",
       "      <td>15.655</td>\n",
       "      <td>0.644</td>\n",
       "      <td>1.114</td>\n",
       "      <td>1.025</td>\n",
       "      <td>4.0</td>\n",
       "      <td>3.0</td>\n",
       "      <td>7</td>\n",
       "      <td>1</td>\n",
       "    </tr>\n",
       "    <tr>\n",
       "      <th>1</th>\n",
       "      <td>1900-01-01 09:45:00</td>\n",
       "      <td>1BLTE</td>\n",
       "      <td>21.791</td>\n",
       "      <td>1.891</td>\n",
       "      <td>0.537</td>\n",
       "      <td>0.268</td>\n",
       "      <td>10.273</td>\n",
       "      <td>1.154</td>\n",
       "      <td>1.353</td>\n",
       "      <td>1.085</td>\n",
       "      <td>6.0</td>\n",
       "      <td>4.0</td>\n",
       "      <td>10</td>\n",
       "      <td>1</td>\n",
       "    </tr>\n",
       "    <tr>\n",
       "      <th>2</th>\n",
       "      <td>1900-01-01 07:45:00</td>\n",
       "      <td>9BLTE</td>\n",
       "      <td>0.498</td>\n",
       "      <td>0.398</td>\n",
       "      <td>0.015</td>\n",
       "      <td>0.010</td>\n",
       "      <td>0.262</td>\n",
       "      <td>0.164</td>\n",
       "      <td>0.995</td>\n",
       "      <td>0.995</td>\n",
       "      <td>1.0</td>\n",
       "      <td>1.0</td>\n",
       "      <td>2</td>\n",
       "      <td>1</td>\n",
       "    </tr>\n",
       "    <tr>\n",
       "      <th>3</th>\n",
       "      <td>1900-01-01 02:45:00</td>\n",
       "      <td>4ALTE</td>\n",
       "      <td>1.891</td>\n",
       "      <td>1.095</td>\n",
       "      <td>0.940</td>\n",
       "      <td>0.024</td>\n",
       "      <td>60.715</td>\n",
       "      <td>0.825</td>\n",
       "      <td>1.035</td>\n",
       "      <td>0.995</td>\n",
       "      <td>2.0</td>\n",
       "      <td>2.0</td>\n",
       "      <td>4</td>\n",
       "      <td>1</td>\n",
       "    </tr>\n",
       "    <tr>\n",
       "      <th>4</th>\n",
       "      <td>1900-01-01 03:30:00</td>\n",
       "      <td>10BLTE</td>\n",
       "      <td>0.303</td>\n",
       "      <td>0.404</td>\n",
       "      <td>0.016</td>\n",
       "      <td>0.013</td>\n",
       "      <td>0.348</td>\n",
       "      <td>0.168</td>\n",
       "      <td>1.011</td>\n",
       "      <td>1.011</td>\n",
       "      <td>2.0</td>\n",
       "      <td>1.0</td>\n",
       "      <td>3</td>\n",
       "      <td>0</td>\n",
       "    </tr>\n",
       "    <tr>\n",
       "      <th>...</th>\n",
       "      <td>...</td>\n",
       "      <td>...</td>\n",
       "      <td>...</td>\n",
       "      <td>...</td>\n",
       "      <td>...</td>\n",
       "      <td>...</td>\n",
       "      <td>...</td>\n",
       "      <td>...</td>\n",
       "      <td>...</td>\n",
       "      <td>...</td>\n",
       "      <td>...</td>\n",
       "      <td>...</td>\n",
       "      <td>...</td>\n",
       "      <td>...</td>\n",
       "    </tr>\n",
       "    <tr>\n",
       "      <th>36899</th>\n",
       "      <td>1900-01-01 21:30:00</td>\n",
       "      <td>6ALTE</td>\n",
       "      <td>7.579</td>\n",
       "      <td>0.808</td>\n",
       "      <td>0.164</td>\n",
       "      <td>0.037</td>\n",
       "      <td>7.980</td>\n",
       "      <td>0.375</td>\n",
       "      <td>1.101</td>\n",
       "      <td>0.010</td>\n",
       "      <td>4.0</td>\n",
       "      <td>3.0</td>\n",
       "      <td>7</td>\n",
       "      <td>0</td>\n",
       "    </tr>\n",
       "    <tr>\n",
       "      <th>36900</th>\n",
       "      <td>1900-01-01 09:45:00</td>\n",
       "      <td>8CLTE</td>\n",
       "      <td>9.095</td>\n",
       "      <td>1.213</td>\n",
       "      <td>0.189</td>\n",
       "      <td>0.030</td>\n",
       "      <td>19.510</td>\n",
       "      <td>1.583</td>\n",
       "      <td>1.122</td>\n",
       "      <td>1.031</td>\n",
       "      <td>4.0</td>\n",
       "      <td>2.0</td>\n",
       "      <td>6</td>\n",
       "      <td>0</td>\n",
       "    </tr>\n",
       "    <tr>\n",
       "      <th>36901</th>\n",
       "      <td>1900-01-01 13:30:00</td>\n",
       "      <td>9BLTE</td>\n",
       "      <td>4.378</td>\n",
       "      <td>0.896</td>\n",
       "      <td>0.341</td>\n",
       "      <td>0.030</td>\n",
       "      <td>12.037</td>\n",
       "      <td>0.540</td>\n",
       "      <td>1.065</td>\n",
       "      <td>1.005</td>\n",
       "      <td>4.0</td>\n",
       "      <td>3.0</td>\n",
       "      <td>7</td>\n",
       "      <td>1</td>\n",
       "    </tr>\n",
       "    <tr>\n",
       "      <th>36902</th>\n",
       "      <td>1900-01-01 12:30:00</td>\n",
       "      <td>3CLTE</td>\n",
       "      <td>13.339</td>\n",
       "      <td>2.728</td>\n",
       "      <td>0.559</td>\n",
       "      <td>0.065</td>\n",
       "      <td>28.187</td>\n",
       "      <td>0.894</td>\n",
       "      <td>1.223</td>\n",
       "      <td>1.061</td>\n",
       "      <td>5.0</td>\n",
       "      <td>4.0</td>\n",
       "      <td>9</td>\n",
       "      <td>0</td>\n",
       "    </tr>\n",
       "    <tr>\n",
       "      <th>36903</th>\n",
       "      <td>1900-01-01 15:45:00</td>\n",
       "      <td>5BLTE</td>\n",
       "      <td>22.231</td>\n",
       "      <td>2.627</td>\n",
       "      <td>0.814</td>\n",
       "      <td>0.076</td>\n",
       "      <td>80.804</td>\n",
       "      <td>0.852</td>\n",
       "      <td>1.324</td>\n",
       "      <td>1.142</td>\n",
       "      <td>6.0</td>\n",
       "      <td>4.0</td>\n",
       "      <td>10</td>\n",
       "      <td>0</td>\n",
       "    </tr>\n",
       "  </tbody>\n",
       "</table>\n",
       "<p>36904 rows × 14 columns</p>\n",
       "</div>"
      ],
      "text/plain": [
       "                     Time CellName  PRBUsageUL  PRBUsageDL  meanThr_DL  \\\n",
       "0     1900-01-01 10:45:00    3BLTE      11.642       1.393       0.370   \n",
       "1     1900-01-01 09:45:00    1BLTE      21.791       1.891       0.537   \n",
       "2     1900-01-01 07:45:00    9BLTE       0.498       0.398       0.015   \n",
       "3     1900-01-01 02:45:00    4ALTE       1.891       1.095       0.940   \n",
       "4     1900-01-01 03:30:00   10BLTE       0.303       0.404       0.016   \n",
       "...                   ...      ...         ...         ...         ...   \n",
       "36899 1900-01-01 21:30:00    6ALTE       7.579       0.808       0.164   \n",
       "36900 1900-01-01 09:45:00    8CLTE       9.095       1.213       0.189   \n",
       "36901 1900-01-01 13:30:00    9BLTE       4.378       0.896       0.341   \n",
       "36902 1900-01-01 12:30:00    3CLTE      13.339       2.728       0.559   \n",
       "36903 1900-01-01 15:45:00    5BLTE      22.231       2.627       0.814   \n",
       "\n",
       "       meanThr_UL  maxThr_DL  maxThr_UL  meanUE_DL  meanUE_UL  maxUE_DL  \\\n",
       "0           0.041     15.655      0.644      1.114      1.025       4.0   \n",
       "1           0.268     10.273      1.154      1.353      1.085       6.0   \n",
       "2           0.010      0.262      0.164      0.995      0.995       1.0   \n",
       "3           0.024     60.715      0.825      1.035      0.995       2.0   \n",
       "4           0.013      0.348      0.168      1.011      1.011       2.0   \n",
       "...           ...        ...        ...        ...        ...       ...   \n",
       "36899       0.037      7.980      0.375      1.101      0.010       4.0   \n",
       "36900       0.030     19.510      1.583      1.122      1.031       4.0   \n",
       "36901       0.030     12.037      0.540      1.065      1.005       4.0   \n",
       "36902       0.065     28.187      0.894      1.223      1.061       5.0   \n",
       "36903       0.076     80.804      0.852      1.324      1.142       6.0   \n",
       "\n",
       "       maxUE_UL maxUE_UL+DL  Unusual  \n",
       "0           3.0           7        1  \n",
       "1           4.0          10        1  \n",
       "2           1.0           2        1  \n",
       "3           2.0           4        1  \n",
       "4           1.0           3        0  \n",
       "...         ...         ...      ...  \n",
       "36899       3.0           7        0  \n",
       "36900       2.0           6        0  \n",
       "36901       3.0           7        1  \n",
       "36902       4.0           9        0  \n",
       "36903       4.0          10        0  \n",
       "\n",
       "[36904 rows x 14 columns]"
      ]
     },
     "execution_count": 162,
     "metadata": {},
     "output_type": "execute_result"
    }
   ],
   "source": [
    "df_train"
   ]
  },
  {
   "cell_type": "code",
   "execution_count": 163,
   "metadata": {},
   "outputs": [
    {
     "data": {
      "text/plain": [
       "3.0     8096\n",
       "4.0     7843\n",
       "5.0     6219\n",
       "2.0     4941\n",
       "6.0     4375\n",
       "7.0     2488\n",
       "1.0     1162\n",
       "8.0     1075\n",
       "9.0      350\n",
       "0.0      161\n",
       "10.0      87\n",
       "11.0      16\n",
       "12.0       2\n",
       "Name: maxUE_DL, dtype: int64"
      ]
     },
     "execution_count": 163,
     "metadata": {},
     "output_type": "execute_result"
    }
   ],
   "source": [
    "df_train.maxUE_DL.value_counts()"
   ]
  },
  {
   "cell_type": "code",
   "execution_count": 164,
   "metadata": {},
   "outputs": [
    {
     "data": {
      "text/plain": [
       "2.0     11286\n",
       "3.0     11163\n",
       "4.0      6137\n",
       "5.0      3040\n",
       "1.0      2841\n",
       "6.0      1379\n",
       "7.0       534\n",
       "0.0       183\n",
       "8.0       180\n",
       "9.0        48\n",
       "10.0       21\n",
       "11.0        2\n",
       "12.0        1\n",
       "Name: maxUE_UL, dtype: int64"
      ]
     },
     "execution_count": 164,
     "metadata": {},
     "output_type": "execute_result"
    }
   ],
   "source": [
    "df_train.maxUE_UL.value_counts()"
   ]
  },
  {
   "cell_type": "code",
   "execution_count": 165,
   "metadata": {},
   "outputs": [
    {
     "data": {
      "text/plain": [
       "5           5939\n",
       "7           5322\n",
       "8           3889\n",
       "6           3883\n",
       "9           3439\n",
       "4           3391\n",
       "10          2539\n",
       "11          1899\n",
       "3           1636\n",
       "12          1388\n",
       "2           1118\n",
       "13           909\n",
       "14           597\n",
       "15           326\n",
       "16           178\n",
       "0            158\n",
       "#¡VALOR!      84\n",
       "17            82\n",
       "18            41\n",
       "19            31\n",
       "1             28\n",
       "20            18\n",
       "23             2\n",
       "21             2\n",
       "Name: maxUE_UL+DL, dtype: int64"
      ]
     },
     "execution_count": 165,
     "metadata": {},
     "output_type": "execute_result"
    }
   ],
   "source": [
    "df_train['maxUE_UL+DL'].value_counts()"
   ]
  },
  {
   "cell_type": "code",
   "execution_count": 166,
   "metadata": {},
   "outputs": [
    {
     "data": {
      "text/plain": [
       "5ALTE     1157\n",
       "4CLTE     1150\n",
       "4ALTE     1147\n",
       "8ALTE     1142\n",
       "8CLTE     1137\n",
       "6VLTE     1134\n",
       "6ALTE     1134\n",
       "4BLTE     1134\n",
       "6WLTE     1133\n",
       "5CLTE     1131\n",
       "3CLTE     1131\n",
       "6ULTE     1129\n",
       "7BLTE     1128\n",
       "1ALTE     1122\n",
       "10ALTE    1121\n",
       "7ULTE     1120\n",
       "1CLTE     1120\n",
       "8BLTE     1118\n",
       "10CLTE    1117\n",
       "3BLTE     1117\n",
       "1BLTE     1117\n",
       "7WLTE     1116\n",
       "2ALTE     1116\n",
       "9BLTE     1116\n",
       "6BLTE     1112\n",
       "3ALTE     1107\n",
       "10BLTE    1107\n",
       "5BLTE     1104\n",
       "6CLTE     1102\n",
       "9ALTE     1099\n",
       "7CLTE     1096\n",
       "7ALTE     1083\n",
       "7VLTE     1007\n",
       "Name: CellName, dtype: int64"
      ]
     },
     "execution_count": 166,
     "metadata": {},
     "output_type": "execute_result"
    }
   ],
   "source": [
    "df_train.CellName.value_counts()"
   ]
  },
  {
   "cell_type": "code",
   "execution_count": 167,
   "metadata": {},
   "outputs": [
    {
     "data": {
      "text/plain": [
       "0    26721\n",
       "1    10183\n",
       "Name: Unusual, dtype: int64"
      ]
     },
     "execution_count": 167,
     "metadata": {},
     "output_type": "execute_result"
    }
   ],
   "source": [
    "df_train.Unusual.value_counts()"
   ]
  },
  {
   "cell_type": "code",
   "execution_count": 168,
   "metadata": {},
   "outputs": [],
   "source": [
    "#Convert Unusual Column to Object Data Type\n",
    "df_train.Unusual = df_train.Unusual.astype('object')"
   ]
  },
  {
   "cell_type": "code",
   "execution_count": 169,
   "metadata": {},
   "outputs": [
    {
     "name": "stdout",
     "output_type": "stream",
     "text": [
      "<class 'pandas.core.frame.DataFrame'>\n",
      "RangeIndex: 36904 entries, 0 to 36903\n",
      "Data columns (total 14 columns):\n",
      " #   Column       Non-Null Count  Dtype         \n",
      "---  ------       --------------  -----         \n",
      " 0   Time         36904 non-null  datetime64[ns]\n",
      " 1   CellName     36904 non-null  object        \n",
      " 2   PRBUsageUL   36904 non-null  float64       \n",
      " 3   PRBUsageDL   36904 non-null  float64       \n",
      " 4   meanThr_DL   36904 non-null  float64       \n",
      " 5   meanThr_UL   36904 non-null  float64       \n",
      " 6   maxThr_DL    36904 non-null  float64       \n",
      " 7   maxThr_UL    36904 non-null  float64       \n",
      " 8   meanUE_DL    36904 non-null  float64       \n",
      " 9   meanUE_UL    36904 non-null  float64       \n",
      " 10  maxUE_DL     36815 non-null  float64       \n",
      " 11  maxUE_UL     36815 non-null  float64       \n",
      " 12  maxUE_UL+DL  36899 non-null  object        \n",
      " 13  Unusual      36904 non-null  object        \n",
      "dtypes: datetime64[ns](1), float64(10), object(3)\n",
      "memory usage: 3.9+ MB\n"
     ]
    }
   ],
   "source": [
    "df_train.info()"
   ]
  },
  {
   "cell_type": "code",
   "execution_count": 170,
   "metadata": {},
   "outputs": [],
   "source": [
    "label = ['maxUE_DL','maxUE_UL','maxUE_UL+DL'] "
   ]
  },
  {
   "cell_type": "code",
   "execution_count": 171,
   "metadata": {},
   "outputs": [],
   "source": [
    "#Convert Unusual Column to Object Data Type\n",
    "df_train.maxUE_DL = df_train.maxUE_DL.astype('object')\n",
    "\n",
    "#Convert maxUE_UL Column to Object Data Type\n",
    "df_train.maxUE_UL = df_train.maxUE_UL.astype('object')\n",
    "\n",
    "#Convert maxUE_UL+DL Column to Object Data Type\n",
    "df_train['maxUE_UL+DL'] = df_train['maxUE_UL+DL'].astype('object')\n"
   ]
  },
  {
   "cell_type": "code",
   "execution_count": 172,
   "metadata": {},
   "outputs": [
    {
     "name": "stdout",
     "output_type": "stream",
     "text": [
      "<class 'pandas.core.frame.DataFrame'>\n",
      "RangeIndex: 36904 entries, 0 to 36903\n",
      "Data columns (total 14 columns):\n",
      " #   Column       Non-Null Count  Dtype         \n",
      "---  ------       --------------  -----         \n",
      " 0   Time         36904 non-null  datetime64[ns]\n",
      " 1   CellName     36904 non-null  object        \n",
      " 2   PRBUsageUL   36904 non-null  float64       \n",
      " 3   PRBUsageDL   36904 non-null  float64       \n",
      " 4   meanThr_DL   36904 non-null  float64       \n",
      " 5   meanThr_UL   36904 non-null  float64       \n",
      " 6   maxThr_DL    36904 non-null  float64       \n",
      " 7   maxThr_UL    36904 non-null  float64       \n",
      " 8   meanUE_DL    36904 non-null  float64       \n",
      " 9   meanUE_UL    36904 non-null  float64       \n",
      " 10  maxUE_DL     36815 non-null  object        \n",
      " 11  maxUE_UL     36815 non-null  object        \n",
      " 12  maxUE_UL+DL  36899 non-null  object        \n",
      " 13  Unusual      36904 non-null  object        \n",
      "dtypes: datetime64[ns](1), float64(8), object(5)\n",
      "memory usage: 3.9+ MB\n"
     ]
    }
   ],
   "source": [
    "df_train.info()"
   ]
  },
  {
   "cell_type": "code",
   "execution_count": 173,
   "metadata": {},
   "outputs": [],
   "source": [
    "#Convert Object Data Type to Category\n",
    "for label, content in df_train.items():\n",
    "    if pd.api.types.is_string_dtype(content):\n",
    "        df_train[label] = content.astype(\"category\").cat.as_ordered()"
   ]
  },
  {
   "cell_type": "code",
   "execution_count": 174,
   "metadata": {},
   "outputs": [
    {
     "name": "stdout",
     "output_type": "stream",
     "text": [
      "<class 'pandas.core.frame.DataFrame'>\n",
      "RangeIndex: 36904 entries, 0 to 36903\n",
      "Data columns (total 14 columns):\n",
      " #   Column       Non-Null Count  Dtype         \n",
      "---  ------       --------------  -----         \n",
      " 0   Time         36904 non-null  datetime64[ns]\n",
      " 1   CellName     36904 non-null  category      \n",
      " 2   PRBUsageUL   36904 non-null  float64       \n",
      " 3   PRBUsageDL   36904 non-null  float64       \n",
      " 4   meanThr_DL   36904 non-null  float64       \n",
      " 5   meanThr_UL   36904 non-null  float64       \n",
      " 6   maxThr_DL    36904 non-null  float64       \n",
      " 7   maxThr_UL    36904 non-null  float64       \n",
      " 8   meanUE_DL    36904 non-null  float64       \n",
      " 9   meanUE_UL    36904 non-null  float64       \n",
      " 10  maxUE_DL     36815 non-null  category      \n",
      " 11  maxUE_UL     36815 non-null  category      \n",
      " 12  maxUE_UL+DL  36899 non-null  category      \n",
      " 13  Unusual      36904 non-null  category      \n",
      "dtypes: category(5), datetime64[ns](1), float64(8)\n",
      "memory usage: 2.7 MB\n"
     ]
    }
   ],
   "source": [
    "df_train.info()"
   ]
  },
  {
   "cell_type": "code",
   "execution_count": null,
   "metadata": {},
   "outputs": [],
   "source": []
  },
  {
   "cell_type": "markdown",
   "metadata": {},
   "source": [
    "### Handle Null Values"
   ]
  },
  {
   "cell_type": "code",
   "execution_count": 175,
   "metadata": {},
   "outputs": [
    {
     "data": {
      "text/plain": [
       "Time           0.000000\n",
       "CellName       0.000000\n",
       "PRBUsageUL     0.000000\n",
       "PRBUsageDL     0.000000\n",
       "meanThr_DL     0.000000\n",
       "meanThr_UL     0.000000\n",
       "maxThr_DL      0.000000\n",
       "maxThr_UL      0.000000\n",
       "meanUE_DL      0.000000\n",
       "meanUE_UL      0.000000\n",
       "maxUE_DL       0.241166\n",
       "maxUE_UL       0.241166\n",
       "maxUE_UL+DL    0.013549\n",
       "Unusual        0.000000\n",
       "dtype: float64"
      ]
     },
     "execution_count": 175,
     "metadata": {},
     "output_type": "execute_result"
    }
   ],
   "source": [
    "#Check for Null Values\n",
    "Percentage_null = df_train.isnull().sum()/len(df_train)*100\n",
    "Percentage_null"
   ]
  },
  {
   "cell_type": "code",
   "execution_count": 176,
   "metadata": {},
   "outputs": [
    {
     "name": "stdout",
     "output_type": "stream",
     "text": [
      "PRBUsageUL\n",
      "PRBUsageDL\n",
      "meanThr_DL\n",
      "meanThr_UL\n",
      "maxThr_DL\n",
      "maxThr_UL\n",
      "meanUE_DL\n",
      "meanUE_UL\n"
     ]
    }
   ],
   "source": [
    "#Numerical Columns\n",
    "for label, content in df_train.items():\n",
    "    if pd.api.types.is_float_dtype(content):\n",
    "        print(label)"
   ]
  },
  {
   "cell_type": "code",
   "execution_count": 177,
   "metadata": {},
   "outputs": [
    {
     "name": "stdout",
     "output_type": "stream",
     "text": [
      "CellName\n",
      "maxUE_DL\n",
      "maxUE_UL\n",
      "maxUE_UL+DL\n",
      "Unusual\n"
     ]
    }
   ],
   "source": [
    "#Categorical Columns\n",
    "for label, content in df_train.items():\n",
    "    if pd.api.types.is_categorical_dtype(content):\n",
    "        print(label)"
   ]
  },
  {
   "cell_type": "markdown",
   "metadata": {},
   "source": [
    "After exploring the dataset we could replace the **Numerical Null values** with its **median** and **Categorical Null values** with its **mode**"
   ]
  },
  {
   "cell_type": "code",
   "execution_count": 178,
   "metadata": {},
   "outputs": [],
   "source": [
    "#Fill in Numerical Columns with the median\n",
    "for label, content in df_train.items():\n",
    "    if pd.api.types.is_float_dtype(content):\n",
    "        if pd.isnull(content).sum():\n",
    "            df_train[label] = content.fillna(content.median())\n",
    "        "
   ]
  },
  {
   "cell_type": "code",
   "execution_count": 179,
   "metadata": {},
   "outputs": [
    {
     "name": "stdout",
     "output_type": "stream",
     "text": [
      "maxUE_DL\n",
      "maxUE_UL\n",
      "maxUE_UL+DL\n"
     ]
    }
   ],
   "source": [
    "#Fill in Categorical Columns with the mode\n",
    "for label, content in df_train.items():\n",
    "    if pd.api.types.is_categorical_dtype(content):\n",
    "        if pd.isnull(content).sum():\n",
    "            print(label)\n",
    "        df_train[label] = content.fillna(content.value_counts().index[0])\n",
    "\n",
    "#df_train['maxUE_DL'] = df_train['maxUE_DL'].fillna(df_train['maxUE_DL'].mode())"
   ]
  },
  {
   "cell_type": "code",
   "execution_count": 180,
   "metadata": {},
   "outputs": [
    {
     "data": {
      "text/plain": [
       "Time           0\n",
       "CellName       0\n",
       "PRBUsageUL     0\n",
       "PRBUsageDL     0\n",
       "meanThr_DL     0\n",
       "meanThr_UL     0\n",
       "maxThr_DL      0\n",
       "maxThr_UL      0\n",
       "meanUE_DL      0\n",
       "meanUE_UL      0\n",
       "maxUE_DL       0\n",
       "maxUE_UL       0\n",
       "maxUE_UL+DL    0\n",
       "Unusual        0\n",
       "dtype: int64"
      ]
     },
     "execution_count": 180,
     "metadata": {},
     "output_type": "execute_result"
    }
   ],
   "source": [
    "df_train.isnull().sum()"
   ]
  },
  {
   "cell_type": "markdown",
   "metadata": {},
   "source": [
    "### Feature Engineering for DateTime Column"
   ]
  },
  {
   "cell_type": "code",
   "execution_count": 181,
   "metadata": {},
   "outputs": [
    {
     "data": {
      "text/plain": [
       "0       1900-01-01 10:45:00\n",
       "1       1900-01-01 09:45:00\n",
       "2       1900-01-01 07:45:00\n",
       "3       1900-01-01 02:45:00\n",
       "4       1900-01-01 03:30:00\n",
       "                ...        \n",
       "36899   1900-01-01 21:30:00\n",
       "36900   1900-01-01 09:45:00\n",
       "36901   1900-01-01 13:30:00\n",
       "36902   1900-01-01 12:30:00\n",
       "36903   1900-01-01 15:45:00\n",
       "Name: Time, Length: 36904, dtype: datetime64[ns]"
      ]
     },
     "execution_count": 181,
     "metadata": {},
     "output_type": "execute_result"
    }
   ],
   "source": [
    "df_train['Time']"
   ]
  },
  {
   "cell_type": "code",
   "execution_count": 182,
   "metadata": {},
   "outputs": [],
   "source": [
    "df_train['Year'] = df_train.Time.dt.year\n",
    "df_train['Month'] = df_train.Time.dt.month\n",
    "df_train['Day'] = df_train.Time.dt.day\n",
    "df_train['Hour'] = df_train.Time.dt.hour\n",
    "df_train['Min'] = df_train.Time.dt.minute\n",
    "df_train['Seconds'] = df_train.Time.dt.second"
   ]
  },
  {
   "cell_type": "code",
   "execution_count": 183,
   "metadata": {},
   "outputs": [
    {
     "data": {
      "text/html": [
       "<div>\n",
       "<style scoped>\n",
       "    .dataframe tbody tr th:only-of-type {\n",
       "        vertical-align: middle;\n",
       "    }\n",
       "\n",
       "    .dataframe tbody tr th {\n",
       "        vertical-align: top;\n",
       "    }\n",
       "\n",
       "    .dataframe thead th {\n",
       "        text-align: right;\n",
       "    }\n",
       "</style>\n",
       "<table border=\"1\" class=\"dataframe\">\n",
       "  <thead>\n",
       "    <tr style=\"text-align: right;\">\n",
       "      <th></th>\n",
       "      <th>Time</th>\n",
       "      <th>CellName</th>\n",
       "      <th>PRBUsageUL</th>\n",
       "      <th>PRBUsageDL</th>\n",
       "      <th>meanThr_DL</th>\n",
       "      <th>meanThr_UL</th>\n",
       "      <th>maxThr_DL</th>\n",
       "      <th>maxThr_UL</th>\n",
       "      <th>meanUE_DL</th>\n",
       "      <th>meanUE_UL</th>\n",
       "      <th>maxUE_DL</th>\n",
       "      <th>maxUE_UL</th>\n",
       "      <th>maxUE_UL+DL</th>\n",
       "      <th>Unusual</th>\n",
       "      <th>Year</th>\n",
       "      <th>Month</th>\n",
       "      <th>Day</th>\n",
       "      <th>Hour</th>\n",
       "      <th>Min</th>\n",
       "      <th>Seconds</th>\n",
       "    </tr>\n",
       "  </thead>\n",
       "  <tbody>\n",
       "    <tr>\n",
       "      <th>0</th>\n",
       "      <td>1900-01-01 10:45:00</td>\n",
       "      <td>3BLTE</td>\n",
       "      <td>11.642</td>\n",
       "      <td>1.393</td>\n",
       "      <td>0.370</td>\n",
       "      <td>0.041</td>\n",
       "      <td>15.655</td>\n",
       "      <td>0.644</td>\n",
       "      <td>1.114</td>\n",
       "      <td>1.025</td>\n",
       "      <td>4.0</td>\n",
       "      <td>3.0</td>\n",
       "      <td>7</td>\n",
       "      <td>1</td>\n",
       "      <td>1900</td>\n",
       "      <td>1</td>\n",
       "      <td>1</td>\n",
       "      <td>10</td>\n",
       "      <td>45</td>\n",
       "      <td>0</td>\n",
       "    </tr>\n",
       "    <tr>\n",
       "      <th>1</th>\n",
       "      <td>1900-01-01 09:45:00</td>\n",
       "      <td>1BLTE</td>\n",
       "      <td>21.791</td>\n",
       "      <td>1.891</td>\n",
       "      <td>0.537</td>\n",
       "      <td>0.268</td>\n",
       "      <td>10.273</td>\n",
       "      <td>1.154</td>\n",
       "      <td>1.353</td>\n",
       "      <td>1.085</td>\n",
       "      <td>6.0</td>\n",
       "      <td>4.0</td>\n",
       "      <td>10</td>\n",
       "      <td>1</td>\n",
       "      <td>1900</td>\n",
       "      <td>1</td>\n",
       "      <td>1</td>\n",
       "      <td>9</td>\n",
       "      <td>45</td>\n",
       "      <td>0</td>\n",
       "    </tr>\n",
       "    <tr>\n",
       "      <th>2</th>\n",
       "      <td>1900-01-01 07:45:00</td>\n",
       "      <td>9BLTE</td>\n",
       "      <td>0.498</td>\n",
       "      <td>0.398</td>\n",
       "      <td>0.015</td>\n",
       "      <td>0.010</td>\n",
       "      <td>0.262</td>\n",
       "      <td>0.164</td>\n",
       "      <td>0.995</td>\n",
       "      <td>0.995</td>\n",
       "      <td>1.0</td>\n",
       "      <td>1.0</td>\n",
       "      <td>2</td>\n",
       "      <td>1</td>\n",
       "      <td>1900</td>\n",
       "      <td>1</td>\n",
       "      <td>1</td>\n",
       "      <td>7</td>\n",
       "      <td>45</td>\n",
       "      <td>0</td>\n",
       "    </tr>\n",
       "    <tr>\n",
       "      <th>3</th>\n",
       "      <td>1900-01-01 02:45:00</td>\n",
       "      <td>4ALTE</td>\n",
       "      <td>1.891</td>\n",
       "      <td>1.095</td>\n",
       "      <td>0.940</td>\n",
       "      <td>0.024</td>\n",
       "      <td>60.715</td>\n",
       "      <td>0.825</td>\n",
       "      <td>1.035</td>\n",
       "      <td>0.995</td>\n",
       "      <td>2.0</td>\n",
       "      <td>2.0</td>\n",
       "      <td>4</td>\n",
       "      <td>1</td>\n",
       "      <td>1900</td>\n",
       "      <td>1</td>\n",
       "      <td>1</td>\n",
       "      <td>2</td>\n",
       "      <td>45</td>\n",
       "      <td>0</td>\n",
       "    </tr>\n",
       "    <tr>\n",
       "      <th>4</th>\n",
       "      <td>1900-01-01 03:30:00</td>\n",
       "      <td>10BLTE</td>\n",
       "      <td>0.303</td>\n",
       "      <td>0.404</td>\n",
       "      <td>0.016</td>\n",
       "      <td>0.013</td>\n",
       "      <td>0.348</td>\n",
       "      <td>0.168</td>\n",
       "      <td>1.011</td>\n",
       "      <td>1.011</td>\n",
       "      <td>2.0</td>\n",
       "      <td>1.0</td>\n",
       "      <td>3</td>\n",
       "      <td>0</td>\n",
       "      <td>1900</td>\n",
       "      <td>1</td>\n",
       "      <td>1</td>\n",
       "      <td>3</td>\n",
       "      <td>30</td>\n",
       "      <td>0</td>\n",
       "    </tr>\n",
       "    <tr>\n",
       "      <th>...</th>\n",
       "      <td>...</td>\n",
       "      <td>...</td>\n",
       "      <td>...</td>\n",
       "      <td>...</td>\n",
       "      <td>...</td>\n",
       "      <td>...</td>\n",
       "      <td>...</td>\n",
       "      <td>...</td>\n",
       "      <td>...</td>\n",
       "      <td>...</td>\n",
       "      <td>...</td>\n",
       "      <td>...</td>\n",
       "      <td>...</td>\n",
       "      <td>...</td>\n",
       "      <td>...</td>\n",
       "      <td>...</td>\n",
       "      <td>...</td>\n",
       "      <td>...</td>\n",
       "      <td>...</td>\n",
       "      <td>...</td>\n",
       "    </tr>\n",
       "    <tr>\n",
       "      <th>36899</th>\n",
       "      <td>1900-01-01 21:30:00</td>\n",
       "      <td>6ALTE</td>\n",
       "      <td>7.579</td>\n",
       "      <td>0.808</td>\n",
       "      <td>0.164</td>\n",
       "      <td>0.037</td>\n",
       "      <td>7.980</td>\n",
       "      <td>0.375</td>\n",
       "      <td>1.101</td>\n",
       "      <td>0.010</td>\n",
       "      <td>4.0</td>\n",
       "      <td>3.0</td>\n",
       "      <td>7</td>\n",
       "      <td>0</td>\n",
       "      <td>1900</td>\n",
       "      <td>1</td>\n",
       "      <td>1</td>\n",
       "      <td>21</td>\n",
       "      <td>30</td>\n",
       "      <td>0</td>\n",
       "    </tr>\n",
       "    <tr>\n",
       "      <th>36900</th>\n",
       "      <td>1900-01-01 09:45:00</td>\n",
       "      <td>8CLTE</td>\n",
       "      <td>9.095</td>\n",
       "      <td>1.213</td>\n",
       "      <td>0.189</td>\n",
       "      <td>0.030</td>\n",
       "      <td>19.510</td>\n",
       "      <td>1.583</td>\n",
       "      <td>1.122</td>\n",
       "      <td>1.031</td>\n",
       "      <td>4.0</td>\n",
       "      <td>2.0</td>\n",
       "      <td>6</td>\n",
       "      <td>0</td>\n",
       "      <td>1900</td>\n",
       "      <td>1</td>\n",
       "      <td>1</td>\n",
       "      <td>9</td>\n",
       "      <td>45</td>\n",
       "      <td>0</td>\n",
       "    </tr>\n",
       "    <tr>\n",
       "      <th>36901</th>\n",
       "      <td>1900-01-01 13:30:00</td>\n",
       "      <td>9BLTE</td>\n",
       "      <td>4.378</td>\n",
       "      <td>0.896</td>\n",
       "      <td>0.341</td>\n",
       "      <td>0.030</td>\n",
       "      <td>12.037</td>\n",
       "      <td>0.540</td>\n",
       "      <td>1.065</td>\n",
       "      <td>1.005</td>\n",
       "      <td>4.0</td>\n",
       "      <td>3.0</td>\n",
       "      <td>7</td>\n",
       "      <td>1</td>\n",
       "      <td>1900</td>\n",
       "      <td>1</td>\n",
       "      <td>1</td>\n",
       "      <td>13</td>\n",
       "      <td>30</td>\n",
       "      <td>0</td>\n",
       "    </tr>\n",
       "    <tr>\n",
       "      <th>36902</th>\n",
       "      <td>1900-01-01 12:30:00</td>\n",
       "      <td>3CLTE</td>\n",
       "      <td>13.339</td>\n",
       "      <td>2.728</td>\n",
       "      <td>0.559</td>\n",
       "      <td>0.065</td>\n",
       "      <td>28.187</td>\n",
       "      <td>0.894</td>\n",
       "      <td>1.223</td>\n",
       "      <td>1.061</td>\n",
       "      <td>5.0</td>\n",
       "      <td>4.0</td>\n",
       "      <td>9</td>\n",
       "      <td>0</td>\n",
       "      <td>1900</td>\n",
       "      <td>1</td>\n",
       "      <td>1</td>\n",
       "      <td>12</td>\n",
       "      <td>30</td>\n",
       "      <td>0</td>\n",
       "    </tr>\n",
       "    <tr>\n",
       "      <th>36903</th>\n",
       "      <td>1900-01-01 15:45:00</td>\n",
       "      <td>5BLTE</td>\n",
       "      <td>22.231</td>\n",
       "      <td>2.627</td>\n",
       "      <td>0.814</td>\n",
       "      <td>0.076</td>\n",
       "      <td>80.804</td>\n",
       "      <td>0.852</td>\n",
       "      <td>1.324</td>\n",
       "      <td>1.142</td>\n",
       "      <td>6.0</td>\n",
       "      <td>4.0</td>\n",
       "      <td>10</td>\n",
       "      <td>0</td>\n",
       "      <td>1900</td>\n",
       "      <td>1</td>\n",
       "      <td>1</td>\n",
       "      <td>15</td>\n",
       "      <td>45</td>\n",
       "      <td>0</td>\n",
       "    </tr>\n",
       "  </tbody>\n",
       "</table>\n",
       "<p>36904 rows × 20 columns</p>\n",
       "</div>"
      ],
      "text/plain": [
       "                     Time CellName  PRBUsageUL  PRBUsageDL  meanThr_DL  \\\n",
       "0     1900-01-01 10:45:00    3BLTE      11.642       1.393       0.370   \n",
       "1     1900-01-01 09:45:00    1BLTE      21.791       1.891       0.537   \n",
       "2     1900-01-01 07:45:00    9BLTE       0.498       0.398       0.015   \n",
       "3     1900-01-01 02:45:00    4ALTE       1.891       1.095       0.940   \n",
       "4     1900-01-01 03:30:00   10BLTE       0.303       0.404       0.016   \n",
       "...                   ...      ...         ...         ...         ...   \n",
       "36899 1900-01-01 21:30:00    6ALTE       7.579       0.808       0.164   \n",
       "36900 1900-01-01 09:45:00    8CLTE       9.095       1.213       0.189   \n",
       "36901 1900-01-01 13:30:00    9BLTE       4.378       0.896       0.341   \n",
       "36902 1900-01-01 12:30:00    3CLTE      13.339       2.728       0.559   \n",
       "36903 1900-01-01 15:45:00    5BLTE      22.231       2.627       0.814   \n",
       "\n",
       "       meanThr_UL  maxThr_DL  maxThr_UL  meanUE_DL  meanUE_UL maxUE_DL  \\\n",
       "0           0.041     15.655      0.644      1.114      1.025      4.0   \n",
       "1           0.268     10.273      1.154      1.353      1.085      6.0   \n",
       "2           0.010      0.262      0.164      0.995      0.995      1.0   \n",
       "3           0.024     60.715      0.825      1.035      0.995      2.0   \n",
       "4           0.013      0.348      0.168      1.011      1.011      2.0   \n",
       "...           ...        ...        ...        ...        ...      ...   \n",
       "36899       0.037      7.980      0.375      1.101      0.010      4.0   \n",
       "36900       0.030     19.510      1.583      1.122      1.031      4.0   \n",
       "36901       0.030     12.037      0.540      1.065      1.005      4.0   \n",
       "36902       0.065     28.187      0.894      1.223      1.061      5.0   \n",
       "36903       0.076     80.804      0.852      1.324      1.142      6.0   \n",
       "\n",
       "      maxUE_UL maxUE_UL+DL Unusual  Year  Month  Day  Hour  Min  Seconds  \n",
       "0          3.0           7       1  1900      1    1    10   45        0  \n",
       "1          4.0          10       1  1900      1    1     9   45        0  \n",
       "2          1.0           2       1  1900      1    1     7   45        0  \n",
       "3          2.0           4       1  1900      1    1     2   45        0  \n",
       "4          1.0           3       0  1900      1    1     3   30        0  \n",
       "...        ...         ...     ...   ...    ...  ...   ...  ...      ...  \n",
       "36899      3.0           7       0  1900      1    1    21   30        0  \n",
       "36900      2.0           6       0  1900      1    1     9   45        0  \n",
       "36901      3.0           7       1  1900      1    1    13   30        0  \n",
       "36902      4.0           9       0  1900      1    1    12   30        0  \n",
       "36903      4.0          10       0  1900      1    1    15   45        0  \n",
       "\n",
       "[36904 rows x 20 columns]"
      ]
     },
     "execution_count": 183,
     "metadata": {},
     "output_type": "execute_result"
    }
   ],
   "source": [
    "df_train"
   ]
  },
  {
   "cell_type": "code",
   "execution_count": 184,
   "metadata": {},
   "outputs": [],
   "source": [
    "#Drop Year, Month, Day and Second Column\n",
    "df_train.drop('Year', axis = 1,inplace = True)\n",
    "df_train.drop('Month', axis = 1, inplace = True)\n",
    "df_train.drop('Day', axis = 1, inplace = True)\n",
    "df_train.drop('Seconds', axis = 1, inplace = True)\n"
   ]
  },
  {
   "cell_type": "code",
   "execution_count": 185,
   "metadata": {},
   "outputs": [],
   "source": [
    "df_train.drop('Time',axis = 1, inplace = True)"
   ]
  },
  {
   "cell_type": "code",
   "execution_count": 186,
   "metadata": {},
   "outputs": [
    {
     "data": {
      "text/html": [
       "<div>\n",
       "<style scoped>\n",
       "    .dataframe tbody tr th:only-of-type {\n",
       "        vertical-align: middle;\n",
       "    }\n",
       "\n",
       "    .dataframe tbody tr th {\n",
       "        vertical-align: top;\n",
       "    }\n",
       "\n",
       "    .dataframe thead th {\n",
       "        text-align: right;\n",
       "    }\n",
       "</style>\n",
       "<table border=\"1\" class=\"dataframe\">\n",
       "  <thead>\n",
       "    <tr style=\"text-align: right;\">\n",
       "      <th></th>\n",
       "      <th>CellName</th>\n",
       "      <th>PRBUsageUL</th>\n",
       "      <th>PRBUsageDL</th>\n",
       "      <th>meanThr_DL</th>\n",
       "      <th>meanThr_UL</th>\n",
       "      <th>maxThr_DL</th>\n",
       "      <th>maxThr_UL</th>\n",
       "      <th>meanUE_DL</th>\n",
       "      <th>meanUE_UL</th>\n",
       "      <th>maxUE_DL</th>\n",
       "      <th>maxUE_UL</th>\n",
       "      <th>maxUE_UL+DL</th>\n",
       "      <th>Unusual</th>\n",
       "      <th>Hour</th>\n",
       "      <th>Min</th>\n",
       "    </tr>\n",
       "  </thead>\n",
       "  <tbody>\n",
       "    <tr>\n",
       "      <th>0</th>\n",
       "      <td>3BLTE</td>\n",
       "      <td>11.642</td>\n",
       "      <td>1.393</td>\n",
       "      <td>0.370</td>\n",
       "      <td>0.041</td>\n",
       "      <td>15.655</td>\n",
       "      <td>0.644</td>\n",
       "      <td>1.114</td>\n",
       "      <td>1.025</td>\n",
       "      <td>4.0</td>\n",
       "      <td>3.0</td>\n",
       "      <td>7</td>\n",
       "      <td>1</td>\n",
       "      <td>10</td>\n",
       "      <td>45</td>\n",
       "    </tr>\n",
       "    <tr>\n",
       "      <th>1</th>\n",
       "      <td>1BLTE</td>\n",
       "      <td>21.791</td>\n",
       "      <td>1.891</td>\n",
       "      <td>0.537</td>\n",
       "      <td>0.268</td>\n",
       "      <td>10.273</td>\n",
       "      <td>1.154</td>\n",
       "      <td>1.353</td>\n",
       "      <td>1.085</td>\n",
       "      <td>6.0</td>\n",
       "      <td>4.0</td>\n",
       "      <td>10</td>\n",
       "      <td>1</td>\n",
       "      <td>9</td>\n",
       "      <td>45</td>\n",
       "    </tr>\n",
       "    <tr>\n",
       "      <th>2</th>\n",
       "      <td>9BLTE</td>\n",
       "      <td>0.498</td>\n",
       "      <td>0.398</td>\n",
       "      <td>0.015</td>\n",
       "      <td>0.010</td>\n",
       "      <td>0.262</td>\n",
       "      <td>0.164</td>\n",
       "      <td>0.995</td>\n",
       "      <td>0.995</td>\n",
       "      <td>1.0</td>\n",
       "      <td>1.0</td>\n",
       "      <td>2</td>\n",
       "      <td>1</td>\n",
       "      <td>7</td>\n",
       "      <td>45</td>\n",
       "    </tr>\n",
       "    <tr>\n",
       "      <th>3</th>\n",
       "      <td>4ALTE</td>\n",
       "      <td>1.891</td>\n",
       "      <td>1.095</td>\n",
       "      <td>0.940</td>\n",
       "      <td>0.024</td>\n",
       "      <td>60.715</td>\n",
       "      <td>0.825</td>\n",
       "      <td>1.035</td>\n",
       "      <td>0.995</td>\n",
       "      <td>2.0</td>\n",
       "      <td>2.0</td>\n",
       "      <td>4</td>\n",
       "      <td>1</td>\n",
       "      <td>2</td>\n",
       "      <td>45</td>\n",
       "    </tr>\n",
       "    <tr>\n",
       "      <th>4</th>\n",
       "      <td>10BLTE</td>\n",
       "      <td>0.303</td>\n",
       "      <td>0.404</td>\n",
       "      <td>0.016</td>\n",
       "      <td>0.013</td>\n",
       "      <td>0.348</td>\n",
       "      <td>0.168</td>\n",
       "      <td>1.011</td>\n",
       "      <td>1.011</td>\n",
       "      <td>2.0</td>\n",
       "      <td>1.0</td>\n",
       "      <td>3</td>\n",
       "      <td>0</td>\n",
       "      <td>3</td>\n",
       "      <td>30</td>\n",
       "    </tr>\n",
       "    <tr>\n",
       "      <th>...</th>\n",
       "      <td>...</td>\n",
       "      <td>...</td>\n",
       "      <td>...</td>\n",
       "      <td>...</td>\n",
       "      <td>...</td>\n",
       "      <td>...</td>\n",
       "      <td>...</td>\n",
       "      <td>...</td>\n",
       "      <td>...</td>\n",
       "      <td>...</td>\n",
       "      <td>...</td>\n",
       "      <td>...</td>\n",
       "      <td>...</td>\n",
       "      <td>...</td>\n",
       "      <td>...</td>\n",
       "    </tr>\n",
       "    <tr>\n",
       "      <th>36899</th>\n",
       "      <td>6ALTE</td>\n",
       "      <td>7.579</td>\n",
       "      <td>0.808</td>\n",
       "      <td>0.164</td>\n",
       "      <td>0.037</td>\n",
       "      <td>7.980</td>\n",
       "      <td>0.375</td>\n",
       "      <td>1.101</td>\n",
       "      <td>0.010</td>\n",
       "      <td>4.0</td>\n",
       "      <td>3.0</td>\n",
       "      <td>7</td>\n",
       "      <td>0</td>\n",
       "      <td>21</td>\n",
       "      <td>30</td>\n",
       "    </tr>\n",
       "    <tr>\n",
       "      <th>36900</th>\n",
       "      <td>8CLTE</td>\n",
       "      <td>9.095</td>\n",
       "      <td>1.213</td>\n",
       "      <td>0.189</td>\n",
       "      <td>0.030</td>\n",
       "      <td>19.510</td>\n",
       "      <td>1.583</td>\n",
       "      <td>1.122</td>\n",
       "      <td>1.031</td>\n",
       "      <td>4.0</td>\n",
       "      <td>2.0</td>\n",
       "      <td>6</td>\n",
       "      <td>0</td>\n",
       "      <td>9</td>\n",
       "      <td>45</td>\n",
       "    </tr>\n",
       "    <tr>\n",
       "      <th>36901</th>\n",
       "      <td>9BLTE</td>\n",
       "      <td>4.378</td>\n",
       "      <td>0.896</td>\n",
       "      <td>0.341</td>\n",
       "      <td>0.030</td>\n",
       "      <td>12.037</td>\n",
       "      <td>0.540</td>\n",
       "      <td>1.065</td>\n",
       "      <td>1.005</td>\n",
       "      <td>4.0</td>\n",
       "      <td>3.0</td>\n",
       "      <td>7</td>\n",
       "      <td>1</td>\n",
       "      <td>13</td>\n",
       "      <td>30</td>\n",
       "    </tr>\n",
       "    <tr>\n",
       "      <th>36902</th>\n",
       "      <td>3CLTE</td>\n",
       "      <td>13.339</td>\n",
       "      <td>2.728</td>\n",
       "      <td>0.559</td>\n",
       "      <td>0.065</td>\n",
       "      <td>28.187</td>\n",
       "      <td>0.894</td>\n",
       "      <td>1.223</td>\n",
       "      <td>1.061</td>\n",
       "      <td>5.0</td>\n",
       "      <td>4.0</td>\n",
       "      <td>9</td>\n",
       "      <td>0</td>\n",
       "      <td>12</td>\n",
       "      <td>30</td>\n",
       "    </tr>\n",
       "    <tr>\n",
       "      <th>36903</th>\n",
       "      <td>5BLTE</td>\n",
       "      <td>22.231</td>\n",
       "      <td>2.627</td>\n",
       "      <td>0.814</td>\n",
       "      <td>0.076</td>\n",
       "      <td>80.804</td>\n",
       "      <td>0.852</td>\n",
       "      <td>1.324</td>\n",
       "      <td>1.142</td>\n",
       "      <td>6.0</td>\n",
       "      <td>4.0</td>\n",
       "      <td>10</td>\n",
       "      <td>0</td>\n",
       "      <td>15</td>\n",
       "      <td>45</td>\n",
       "    </tr>\n",
       "  </tbody>\n",
       "</table>\n",
       "<p>36904 rows × 15 columns</p>\n",
       "</div>"
      ],
      "text/plain": [
       "      CellName  PRBUsageUL  PRBUsageDL  meanThr_DL  meanThr_UL  maxThr_DL  \\\n",
       "0        3BLTE      11.642       1.393       0.370       0.041     15.655   \n",
       "1        1BLTE      21.791       1.891       0.537       0.268     10.273   \n",
       "2        9BLTE       0.498       0.398       0.015       0.010      0.262   \n",
       "3        4ALTE       1.891       1.095       0.940       0.024     60.715   \n",
       "4       10BLTE       0.303       0.404       0.016       0.013      0.348   \n",
       "...        ...         ...         ...         ...         ...        ...   \n",
       "36899    6ALTE       7.579       0.808       0.164       0.037      7.980   \n",
       "36900    8CLTE       9.095       1.213       0.189       0.030     19.510   \n",
       "36901    9BLTE       4.378       0.896       0.341       0.030     12.037   \n",
       "36902    3CLTE      13.339       2.728       0.559       0.065     28.187   \n",
       "36903    5BLTE      22.231       2.627       0.814       0.076     80.804   \n",
       "\n",
       "       maxThr_UL  meanUE_DL  meanUE_UL maxUE_DL maxUE_UL maxUE_UL+DL Unusual  \\\n",
       "0          0.644      1.114      1.025      4.0      3.0           7       1   \n",
       "1          1.154      1.353      1.085      6.0      4.0          10       1   \n",
       "2          0.164      0.995      0.995      1.0      1.0           2       1   \n",
       "3          0.825      1.035      0.995      2.0      2.0           4       1   \n",
       "4          0.168      1.011      1.011      2.0      1.0           3       0   \n",
       "...          ...        ...        ...      ...      ...         ...     ...   \n",
       "36899      0.375      1.101      0.010      4.0      3.0           7       0   \n",
       "36900      1.583      1.122      1.031      4.0      2.0           6       0   \n",
       "36901      0.540      1.065      1.005      4.0      3.0           7       1   \n",
       "36902      0.894      1.223      1.061      5.0      4.0           9       0   \n",
       "36903      0.852      1.324      1.142      6.0      4.0          10       0   \n",
       "\n",
       "       Hour  Min  \n",
       "0        10   45  \n",
       "1         9   45  \n",
       "2         7   45  \n",
       "3         2   45  \n",
       "4         3   30  \n",
       "...     ...  ...  \n",
       "36899    21   30  \n",
       "36900     9   45  \n",
       "36901    13   30  \n",
       "36902    12   30  \n",
       "36903    15   45  \n",
       "\n",
       "[36904 rows x 15 columns]"
      ]
     },
     "execution_count": 186,
     "metadata": {},
     "output_type": "execute_result"
    }
   ],
   "source": [
    "df_train"
   ]
  },
  {
   "cell_type": "code",
   "execution_count": 187,
   "metadata": {},
   "outputs": [
    {
     "name": "stdout",
     "output_type": "stream",
     "text": [
      "<class 'pandas.core.frame.DataFrame'>\n",
      "RangeIndex: 36904 entries, 0 to 36903\n",
      "Data columns (total 15 columns):\n",
      " #   Column       Non-Null Count  Dtype   \n",
      "---  ------       --------------  -----   \n",
      " 0   CellName     36904 non-null  category\n",
      " 1   PRBUsageUL   36904 non-null  float64 \n",
      " 2   PRBUsageDL   36904 non-null  float64 \n",
      " 3   meanThr_DL   36904 non-null  float64 \n",
      " 4   meanThr_UL   36904 non-null  float64 \n",
      " 5   maxThr_DL    36904 non-null  float64 \n",
      " 6   maxThr_UL    36904 non-null  float64 \n",
      " 7   meanUE_DL    36904 non-null  float64 \n",
      " 8   meanUE_UL    36904 non-null  float64 \n",
      " 9   maxUE_DL     36904 non-null  category\n",
      " 10  maxUE_UL     36904 non-null  category\n",
      " 11  maxUE_UL+DL  36904 non-null  category\n",
      " 12  Unusual      36904 non-null  category\n",
      " 13  Hour         36904 non-null  int64   \n",
      " 14  Min          36904 non-null  int64   \n",
      "dtypes: category(5), float64(8), int64(2)\n",
      "memory usage: 3.0 MB\n"
     ]
    }
   ],
   "source": [
    "df_train.info()"
   ]
  },
  {
   "cell_type": "markdown",
   "metadata": {},
   "source": [
    "### Data Visualization"
   ]
  },
  {
   "cell_type": "code",
   "execution_count": 188,
   "metadata": {},
   "outputs": [
    {
     "data": {
      "text/plain": [
       "<AxesSubplot:>"
      ]
     },
     "execution_count": 188,
     "metadata": {},
     "output_type": "execute_result"
    },
    {
     "data": {
      "image/png": "[encoded data removed]",
      "text/plain": [
       "<Figure size 432x288 with 1 Axes>"
      ]
     },
     "metadata": {
      "needs_background": "light"
     },
     "output_type": "display_data"
    }
   ],
   "source": [
    "df_train.Unusual.value_counts().plot.bar()"
   ]
  },
  {
   "cell_type": "code",
   "execution_count": 189,
   "metadata": {},
   "outputs": [
    {
     "data": {
      "text/plain": [
       "<AxesSubplot:>"
      ]
     },
     "execution_count": 189,
     "metadata": {},
     "output_type": "execute_result"
    },
    {
     "data": {
      "image/png": "[encoded data removed]",
      "text/plain": [
       "<Figure size 432x288 with 1 Axes>"
      ]
     },
     "metadata": {
      "needs_background": "light"
     },
     "output_type": "display_data"
    }
   ],
   "source": [
    "df_train.Hour.value_counts().plot.bar()"
   ]
  },
  {
   "cell_type": "code",
   "execution_count": 190,
   "metadata": {},
   "outputs": [
    {
     "data": {
      "text/plain": [
       "<AxesSubplot:>"
      ]
     },
     "execution_count": 190,
     "metadata": {},
     "output_type": "execute_result"
    },
    {
     "data": {
      "image/png": "[encoded data removed]",
      "text/plain": [
       "<Figure size 432x288 with 1 Axes>"
      ]
     },
     "metadata": {
      "needs_background": "light"
     },
     "output_type": "display_data"
    }
   ],
   "source": [
    "df_train.Min.value_counts().plot.bar()"
   ]
  },
  {
   "cell_type": "markdown",
   "metadata": {},
   "source": [
    "From the visualization of the target column we can see that we have an imbalanced data"
   ]
  },
  {
   "cell_type": "code",
   "execution_count": 191,
   "metadata": {},
   "outputs": [],
   "source": [
    "# Define X and y\n",
    "X = df_train.drop('Unusual', axis = 1)\n",
    "y =df_train.Unusual"
   ]
  },
  {
   "cell_type": "markdown",
   "metadata": {},
   "source": [
    "### Encoding Categorical Values\n"
   ]
  },
  {
   "cell_type": "code",
   "execution_count": 192,
   "metadata": {},
   "outputs": [],
   "source": [
    "for label, content in X.items():\n",
    "    if not pd.api.types.is_numeric_dtype(content):\n",
    "        # We add the +1 because pandas encodes missing categories as -1\n",
    "        X[label] = pd.Categorical(content).codes+1"
   ]
  },
  {
   "cell_type": "code",
   "execution_count": 193,
   "metadata": {},
   "outputs": [
    {
     "data": {
      "text/html": [
       "<div>\n",
       "<style scoped>\n",
       "    .dataframe tbody tr th:only-of-type {\n",
       "        vertical-align: middle;\n",
       "    }\n",
       "\n",
       "    .dataframe tbody tr th {\n",
       "        vertical-align: top;\n",
       "    }\n",
       "\n",
       "    .dataframe thead th {\n",
       "        text-align: right;\n",
       "    }\n",
       "</style>\n",
       "<table border=\"1\" class=\"dataframe\">\n",
       "  <thead>\n",
       "    <tr style=\"text-align: right;\">\n",
       "      <th></th>\n",
       "      <th>CellName</th>\n",
       "      <th>PRBUsageUL</th>\n",
       "      <th>PRBUsageDL</th>\n",
       "      <th>meanThr_DL</th>\n",
       "      <th>meanThr_UL</th>\n",
       "      <th>maxThr_DL</th>\n",
       "      <th>maxThr_UL</th>\n",
       "      <th>meanUE_DL</th>\n",
       "      <th>meanUE_UL</th>\n",
       "      <th>maxUE_DL</th>\n",
       "      <th>maxUE_UL</th>\n",
       "      <th>maxUE_UL+DL</th>\n",
       "      <th>Hour</th>\n",
       "      <th>Min</th>\n",
       "    </tr>\n",
       "  </thead>\n",
       "  <tbody>\n",
       "    <tr>\n",
       "      <th>0</th>\n",
       "      <td>9</td>\n",
       "      <td>11.642</td>\n",
       "      <td>1.393</td>\n",
       "      <td>0.370</td>\n",
       "      <td>0.041</td>\n",
       "      <td>15.655</td>\n",
       "      <td>0.644</td>\n",
       "      <td>1.114</td>\n",
       "      <td>1.025</td>\n",
       "      <td>5</td>\n",
       "      <td>4</td>\n",
       "      <td>22</td>\n",
       "      <td>10</td>\n",
       "      <td>45</td>\n",
       "    </tr>\n",
       "    <tr>\n",
       "      <th>1</th>\n",
       "      <td>5</td>\n",
       "      <td>21.791</td>\n",
       "      <td>1.891</td>\n",
       "      <td>0.537</td>\n",
       "      <td>0.268</td>\n",
       "      <td>10.273</td>\n",
       "      <td>1.154</td>\n",
       "      <td>1.353</td>\n",
       "      <td>1.085</td>\n",
       "      <td>7</td>\n",
       "      <td>5</td>\n",
       "      <td>4</td>\n",
       "      <td>9</td>\n",
       "      <td>45</td>\n",
       "    </tr>\n",
       "    <tr>\n",
       "      <th>2</th>\n",
       "      <td>33</td>\n",
       "      <td>0.498</td>\n",
       "      <td>0.398</td>\n",
       "      <td>0.015</td>\n",
       "      <td>0.010</td>\n",
       "      <td>0.262</td>\n",
       "      <td>0.164</td>\n",
       "      <td>0.995</td>\n",
       "      <td>0.995</td>\n",
       "      <td>2</td>\n",
       "      <td>2</td>\n",
       "      <td>14</td>\n",
       "      <td>7</td>\n",
       "      <td>45</td>\n",
       "    </tr>\n",
       "    <tr>\n",
       "      <th>3</th>\n",
       "      <td>11</td>\n",
       "      <td>1.891</td>\n",
       "      <td>1.095</td>\n",
       "      <td>0.940</td>\n",
       "      <td>0.024</td>\n",
       "      <td>60.715</td>\n",
       "      <td>0.825</td>\n",
       "      <td>1.035</td>\n",
       "      <td>0.995</td>\n",
       "      <td>3</td>\n",
       "      <td>3</td>\n",
       "      <td>19</td>\n",
       "      <td>2</td>\n",
       "      <td>45</td>\n",
       "    </tr>\n",
       "    <tr>\n",
       "      <th>4</th>\n",
       "      <td>2</td>\n",
       "      <td>0.303</td>\n",
       "      <td>0.404</td>\n",
       "      <td>0.016</td>\n",
       "      <td>0.013</td>\n",
       "      <td>0.348</td>\n",
       "      <td>0.168</td>\n",
       "      <td>1.011</td>\n",
       "      <td>1.011</td>\n",
       "      <td>3</td>\n",
       "      <td>2</td>\n",
       "      <td>18</td>\n",
       "      <td>3</td>\n",
       "      <td>30</td>\n",
       "    </tr>\n",
       "    <tr>\n",
       "      <th>...</th>\n",
       "      <td>...</td>\n",
       "      <td>...</td>\n",
       "      <td>...</td>\n",
       "      <td>...</td>\n",
       "      <td>...</td>\n",
       "      <td>...</td>\n",
       "      <td>...</td>\n",
       "      <td>...</td>\n",
       "      <td>...</td>\n",
       "      <td>...</td>\n",
       "      <td>...</td>\n",
       "      <td>...</td>\n",
       "      <td>...</td>\n",
       "      <td>...</td>\n",
       "    </tr>\n",
       "    <tr>\n",
       "      <th>36899</th>\n",
       "      <td>17</td>\n",
       "      <td>7.579</td>\n",
       "      <td>0.808</td>\n",
       "      <td>0.164</td>\n",
       "      <td>0.037</td>\n",
       "      <td>7.980</td>\n",
       "      <td>0.375</td>\n",
       "      <td>1.101</td>\n",
       "      <td>0.010</td>\n",
       "      <td>5</td>\n",
       "      <td>4</td>\n",
       "      <td>22</td>\n",
       "      <td>21</td>\n",
       "      <td>30</td>\n",
       "    </tr>\n",
       "    <tr>\n",
       "      <th>36900</th>\n",
       "      <td>31</td>\n",
       "      <td>9.095</td>\n",
       "      <td>1.213</td>\n",
       "      <td>0.189</td>\n",
       "      <td>0.030</td>\n",
       "      <td>19.510</td>\n",
       "      <td>1.583</td>\n",
       "      <td>1.122</td>\n",
       "      <td>1.031</td>\n",
       "      <td>5</td>\n",
       "      <td>3</td>\n",
       "      <td>21</td>\n",
       "      <td>9</td>\n",
       "      <td>45</td>\n",
       "    </tr>\n",
       "    <tr>\n",
       "      <th>36901</th>\n",
       "      <td>33</td>\n",
       "      <td>4.378</td>\n",
       "      <td>0.896</td>\n",
       "      <td>0.341</td>\n",
       "      <td>0.030</td>\n",
       "      <td>12.037</td>\n",
       "      <td>0.540</td>\n",
       "      <td>1.065</td>\n",
       "      <td>1.005</td>\n",
       "      <td>5</td>\n",
       "      <td>4</td>\n",
       "      <td>22</td>\n",
       "      <td>13</td>\n",
       "      <td>30</td>\n",
       "    </tr>\n",
       "    <tr>\n",
       "      <th>36902</th>\n",
       "      <td>10</td>\n",
       "      <td>13.339</td>\n",
       "      <td>2.728</td>\n",
       "      <td>0.559</td>\n",
       "      <td>0.065</td>\n",
       "      <td>28.187</td>\n",
       "      <td>0.894</td>\n",
       "      <td>1.223</td>\n",
       "      <td>1.061</td>\n",
       "      <td>6</td>\n",
       "      <td>5</td>\n",
       "      <td>24</td>\n",
       "      <td>12</td>\n",
       "      <td>30</td>\n",
       "    </tr>\n",
       "    <tr>\n",
       "      <th>36903</th>\n",
       "      <td>15</td>\n",
       "      <td>22.231</td>\n",
       "      <td>2.627</td>\n",
       "      <td>0.814</td>\n",
       "      <td>0.076</td>\n",
       "      <td>80.804</td>\n",
       "      <td>0.852</td>\n",
       "      <td>1.324</td>\n",
       "      <td>1.142</td>\n",
       "      <td>7</td>\n",
       "      <td>5</td>\n",
       "      <td>4</td>\n",
       "      <td>15</td>\n",
       "      <td>45</td>\n",
       "    </tr>\n",
       "  </tbody>\n",
       "</table>\n",
       "<p>36904 rows × 14 columns</p>\n",
       "</div>"
      ],
      "text/plain": [
       "       CellName  PRBUsageUL  PRBUsageDL  meanThr_DL  meanThr_UL  maxThr_DL  \\\n",
       "0             9      11.642       1.393       0.370       0.041     15.655   \n",
       "1             5      21.791       1.891       0.537       0.268     10.273   \n",
       "2            33       0.498       0.398       0.015       0.010      0.262   \n",
       "3            11       1.891       1.095       0.940       0.024     60.715   \n",
       "4             2       0.303       0.404       0.016       0.013      0.348   \n",
       "...         ...         ...         ...         ...         ...        ...   \n",
       "36899        17       7.579       0.808       0.164       0.037      7.980   \n",
       "36900        31       9.095       1.213       0.189       0.030     19.510   \n",
       "36901        33       4.378       0.896       0.341       0.030     12.037   \n",
       "36902        10      13.339       2.728       0.559       0.065     28.187   \n",
       "36903        15      22.231       2.627       0.814       0.076     80.804   \n",
       "\n",
       "       maxThr_UL  meanUE_DL  meanUE_UL  maxUE_DL  maxUE_UL  maxUE_UL+DL  Hour  \\\n",
       "0          0.644      1.114      1.025         5         4           22    10   \n",
       "1          1.154      1.353      1.085         7         5            4     9   \n",
       "2          0.164      0.995      0.995         2         2           14     7   \n",
       "3          0.825      1.035      0.995         3         3           19     2   \n",
       "4          0.168      1.011      1.011         3         2           18     3   \n",
       "...          ...        ...        ...       ...       ...          ...   ...   \n",
       "36899      0.375      1.101      0.010         5         4           22    21   \n",
       "36900      1.583      1.122      1.031         5         3           21     9   \n",
       "36901      0.540      1.065      1.005         5         4           22    13   \n",
       "36902      0.894      1.223      1.061         6         5           24    12   \n",
       "36903      0.852      1.324      1.142         7         5            4    15   \n",
       "\n",
       "       Min  \n",
       "0       45  \n",
       "1       45  \n",
       "2       45  \n",
       "3       45  \n",
       "4       30  \n",
       "...    ...  \n",
       "36899   30  \n",
       "36900   45  \n",
       "36901   30  \n",
       "36902   30  \n",
       "36903   45  \n",
       "\n",
       "[36904 rows x 14 columns]"
      ]
     },
     "execution_count": 193,
     "metadata": {},
     "output_type": "execute_result"
    }
   ],
   "source": [
    "X"
   ]
  },
  {
   "cell_type": "code",
   "execution_count": 195,
   "metadata": {},
   "outputs": [
    {
     "data": {
      "text/plain": [
       "0        1\n",
       "1        1\n",
       "2        1\n",
       "3        1\n",
       "4        0\n",
       "        ..\n",
       "36899    0\n",
       "36900    0\n",
       "36901    1\n",
       "36902    0\n",
       "36903    0\n",
       "Name: Unusual, Length: 36904, dtype: category\n",
       "Categories (2, int64): [0 < 1]"
      ]
     },
     "execution_count": 195,
     "metadata": {},
     "output_type": "execute_result"
    }
   ],
   "source": [
    "y"
   ]
  },
  {
   "cell_type": "markdown",
   "metadata": {},
   "source": [
    "### Handling Imbalaced Data Values\n"
   ]
  },
  {
   "cell_type": "markdown",
   "metadata": {},
   "source": [
    "0 >>>> False\n",
    "\n",
    "1 >>>> True"
   ]
  },
  {
   "cell_type": "code",
   "execution_count": 196,
   "metadata": {},
   "outputs": [],
   "source": [
    "# Seperating Anomalause and Non-Anomalouse Data\n",
    "Anomal = df_train[df_train.Unusual == 1]\n",
    "Non_Anomal = df_train[df_train.Unusual == 0]"
   ]
  },
  {
   "cell_type": "code",
   "execution_count": 197,
   "metadata": {},
   "outputs": [
    {
     "name": "stdout",
     "output_type": "stream",
     "text": [
      "(10183, 15)\n",
      "(26721, 15)\n"
     ]
    }
   ],
   "source": [
    "print(Anomal.shape)\n",
    "print(Non_Anomal.shape)"
   ]
  },
  {
   "cell_type": "markdown",
   "metadata": {},
   "source": [
    "**Under Sampling**\n",
    "\n",
    "Build a sample dataset containing similar distribution of Anomalouse and non Anomalouse\n",
    "\n",
    "Number of Anomalouse = 10183\n"
   ]
  },
  {
   "cell_type": "code",
   "execution_count": 198,
   "metadata": {},
   "outputs": [
    {
     "name": "stdout",
     "output_type": "stream",
     "text": [
      "(10183, 15)\n"
     ]
    }
   ],
   "source": [
    "Non_Anomal_sample = Non_Anomal.sample(n = 10183)\n",
    "print(Non_Anomal_sample.shape)"
   ]
  },
  {
   "cell_type": "code",
   "execution_count": 199,
   "metadata": {},
   "outputs": [],
   "source": [
    "Un_df_train = pd.concat([Non_Anomal_sample,Anomal], axis = 0 )"
   ]
  },
  {
   "cell_type": "code",
   "execution_count": 200,
   "metadata": {},
   "outputs": [
    {
     "data": {
      "text/plain": [
       "0    10183\n",
       "1    10183\n",
       "Name: Unusual, dtype: int64"
      ]
     },
     "execution_count": 200,
     "metadata": {},
     "output_type": "execute_result"
    }
   ],
   "source": [
    "Un_df_train.Unusual.value_counts()"
   ]
  },
  {
   "cell_type": "markdown",
   "metadata": {},
   "source": [
    "**Over Sampling**\n",
    "Build a sample dataset containing similar distribution of Anomalouse and non Anomalouse\n",
    "\n",
    "Number of Anomalouse = 26721 \n"
   ]
  },
  {
   "cell_type": "code",
   "execution_count": 201,
   "metadata": {},
   "outputs": [
    {
     "name": "stdout",
     "output_type": "stream",
     "text": [
      "(26721, 15)\n"
     ]
    }
   ],
   "source": [
    "Anomal_sample = Anomal.sample(n = 26721,replace=True)\n",
    "print(Anomal_sample.shape)"
   ]
  },
  {
   "cell_type": "code",
   "execution_count": 202,
   "metadata": {},
   "outputs": [],
   "source": [
    "Ov_df_train = pd.concat([Anomal_sample,Non_Anomal], axis = 0 )"
   ]
  },
  {
   "cell_type": "code",
   "execution_count": 203,
   "metadata": {},
   "outputs": [
    {
     "data": {
      "text/plain": [
       "0    26721\n",
       "1    26721\n",
       "Name: Unusual, dtype: int64"
      ]
     },
     "execution_count": 203,
     "metadata": {},
     "output_type": "execute_result"
    }
   ],
   "source": [
    "Ov_df_train.Unusual.value_counts()"
   ]
  },
  {
   "cell_type": "markdown",
   "metadata": {},
   "source": [
    "**SMOTE Sampling** (Using imblearn)\n",
    "\n",
    "Build a sample dataset containing new distribution of Anomalouse and non Anomalouse\n",
    "\n",
    "\n"
   ]
  },
  {
   "cell_type": "code",
   "execution_count": 204,
   "metadata": {},
   "outputs": [],
   "source": [
    "from imblearn.over_sampling import SMOTE\n",
    "from collections import Counter\n",
    "SMOTE = SMOTE()"
   ]
  },
  {
   "cell_type": "code",
   "execution_count": 205,
   "metadata": {},
   "outputs": [
    {
     "name": "stdout",
     "output_type": "stream",
     "text": [
      "Original Dataset: Counter({0: 26721, 1: 10183})\n",
      "After Implementing SMOTE : Counter({1: 26721, 0: 26721})\n"
     ]
    }
   ],
   "source": [
    "print('Original Dataset: %s' % Counter(y))\n",
    "X_sm,y_sm = SMOTE.fit_resample(X,y)\n",
    "print('After Implementing SMOTE : %s' % Counter(y_sm))"
   ]
  },
  {
   "cell_type": "markdown",
   "metadata": {},
   "source": [
    "Now we have 3 dataframes for experimentation : \n",
    "\n",
    "1. Un_df_train\n",
    "2. Ov_df_train\n",
    "3. sm_df"
   ]
  },
  {
   "cell_type": "markdown",
   "metadata": {},
   "source": [
    "### Split Data into Train and Validation Set\n",
    "\n"
   ]
  },
  {
   "cell_type": "code",
   "execution_count": 207,
   "metadata": {},
   "outputs": [],
   "source": [
    "from sklearn.model_selection import train_test_split"
   ]
  },
  {
   "cell_type": "markdown",
   "metadata": {},
   "source": [
    "## Experiment 1 : using SMOTE Dataset"
   ]
  },
  {
   "cell_type": "code",
   "execution_count": 218,
   "metadata": {},
   "outputs": [
    {
     "data": {
      "text/html": [
       "<div>\n",
       "<style scoped>\n",
       "    .dataframe tbody tr th:only-of-type {\n",
       "        vertical-align: middle;\n",
       "    }\n",
       "\n",
       "    .dataframe tbody tr th {\n",
       "        vertical-align: top;\n",
       "    }\n",
       "\n",
       "    .dataframe thead th {\n",
       "        text-align: right;\n",
       "    }\n",
       "</style>\n",
       "<table border=\"1\" class=\"dataframe\">\n",
       "  <thead>\n",
       "    <tr style=\"text-align: right;\">\n",
       "      <th></th>\n",
       "      <th>CellName</th>\n",
       "      <th>PRBUsageUL</th>\n",
       "      <th>PRBUsageDL</th>\n",
       "      <th>meanThr_DL</th>\n",
       "      <th>meanThr_UL</th>\n",
       "      <th>maxThr_DL</th>\n",
       "      <th>maxThr_UL</th>\n",
       "      <th>meanUE_DL</th>\n",
       "      <th>meanUE_UL</th>\n",
       "      <th>maxUE_DL</th>\n",
       "      <th>maxUE_UL</th>\n",
       "      <th>maxUE_UL+DL</th>\n",
       "      <th>Hour</th>\n",
       "      <th>Min</th>\n",
       "    </tr>\n",
       "  </thead>\n",
       "  <tbody>\n",
       "    <tr>\n",
       "      <th>0</th>\n",
       "      <td>9</td>\n",
       "      <td>11.642000</td>\n",
       "      <td>1.393000</td>\n",
       "      <td>0.370000</td>\n",
       "      <td>0.041000</td>\n",
       "      <td>15.655000</td>\n",
       "      <td>0.644000</td>\n",
       "      <td>1.114000</td>\n",
       "      <td>1.025000</td>\n",
       "      <td>5</td>\n",
       "      <td>4</td>\n",
       "      <td>22</td>\n",
       "      <td>10</td>\n",
       "      <td>45</td>\n",
       "    </tr>\n",
       "    <tr>\n",
       "      <th>1</th>\n",
       "      <td>5</td>\n",
       "      <td>21.791000</td>\n",
       "      <td>1.891000</td>\n",
       "      <td>0.537000</td>\n",
       "      <td>0.268000</td>\n",
       "      <td>10.273000</td>\n",
       "      <td>1.154000</td>\n",
       "      <td>1.353000</td>\n",
       "      <td>1.085000</td>\n",
       "      <td>7</td>\n",
       "      <td>5</td>\n",
       "      <td>4</td>\n",
       "      <td>9</td>\n",
       "      <td>45</td>\n",
       "    </tr>\n",
       "    <tr>\n",
       "      <th>2</th>\n",
       "      <td>33</td>\n",
       "      <td>0.498000</td>\n",
       "      <td>0.398000</td>\n",
       "      <td>0.015000</td>\n",
       "      <td>0.010000</td>\n",
       "      <td>0.262000</td>\n",
       "      <td>0.164000</td>\n",
       "      <td>0.995000</td>\n",
       "      <td>0.995000</td>\n",
       "      <td>2</td>\n",
       "      <td>2</td>\n",
       "      <td>14</td>\n",
       "      <td>7</td>\n",
       "      <td>45</td>\n",
       "    </tr>\n",
       "    <tr>\n",
       "      <th>3</th>\n",
       "      <td>11</td>\n",
       "      <td>1.891000</td>\n",
       "      <td>1.095000</td>\n",
       "      <td>0.940000</td>\n",
       "      <td>0.024000</td>\n",
       "      <td>60.715000</td>\n",
       "      <td>0.825000</td>\n",
       "      <td>1.035000</td>\n",
       "      <td>0.995000</td>\n",
       "      <td>3</td>\n",
       "      <td>3</td>\n",
       "      <td>19</td>\n",
       "      <td>2</td>\n",
       "      <td>45</td>\n",
       "    </tr>\n",
       "    <tr>\n",
       "      <th>4</th>\n",
       "      <td>2</td>\n",
       "      <td>0.303000</td>\n",
       "      <td>0.404000</td>\n",
       "      <td>0.016000</td>\n",
       "      <td>0.013000</td>\n",
       "      <td>0.348000</td>\n",
       "      <td>0.168000</td>\n",
       "      <td>1.011000</td>\n",
       "      <td>1.011000</td>\n",
       "      <td>3</td>\n",
       "      <td>2</td>\n",
       "      <td>18</td>\n",
       "      <td>3</td>\n",
       "      <td>30</td>\n",
       "    </tr>\n",
       "    <tr>\n",
       "      <th>...</th>\n",
       "      <td>...</td>\n",
       "      <td>...</td>\n",
       "      <td>...</td>\n",
       "      <td>...</td>\n",
       "      <td>...</td>\n",
       "      <td>...</td>\n",
       "      <td>...</td>\n",
       "      <td>...</td>\n",
       "      <td>...</td>\n",
       "      <td>...</td>\n",
       "      <td>...</td>\n",
       "      <td>...</td>\n",
       "      <td>...</td>\n",
       "      <td>...</td>\n",
       "    </tr>\n",
       "    <tr>\n",
       "      <th>53437</th>\n",
       "      <td>15</td>\n",
       "      <td>9.387395</td>\n",
       "      <td>0.864790</td>\n",
       "      <td>0.117642</td>\n",
       "      <td>0.019691</td>\n",
       "      <td>5.053038</td>\n",
       "      <td>0.360296</td>\n",
       "      <td>1.068457</td>\n",
       "      <td>1.018457</td>\n",
       "      <td>5</td>\n",
       "      <td>4</td>\n",
       "      <td>22</td>\n",
       "      <td>17</td>\n",
       "      <td>30</td>\n",
       "    </tr>\n",
       "    <tr>\n",
       "      <th>53438</th>\n",
       "      <td>9</td>\n",
       "      <td>12.208672</td>\n",
       "      <td>1.393000</td>\n",
       "      <td>0.219851</td>\n",
       "      <td>0.051350</td>\n",
       "      <td>5.431194</td>\n",
       "      <td>0.424812</td>\n",
       "      <td>1.239339</td>\n",
       "      <td>1.099884</td>\n",
       "      <td>5</td>\n",
       "      <td>4</td>\n",
       "      <td>23</td>\n",
       "      <td>12</td>\n",
       "      <td>15</td>\n",
       "    </tr>\n",
       "    <tr>\n",
       "      <th>53439</th>\n",
       "      <td>29</td>\n",
       "      <td>4.306775</td>\n",
       "      <td>0.689341</td>\n",
       "      <td>0.110156</td>\n",
       "      <td>0.015716</td>\n",
       "      <td>2.992853</td>\n",
       "      <td>0.257998</td>\n",
       "      <td>1.039317</td>\n",
       "      <td>1.005000</td>\n",
       "      <td>4</td>\n",
       "      <td>3</td>\n",
       "      <td>20</td>\n",
       "      <td>4</td>\n",
       "      <td>0</td>\n",
       "    </tr>\n",
       "    <tr>\n",
       "      <th>53440</th>\n",
       "      <td>2</td>\n",
       "      <td>4.307854</td>\n",
       "      <td>0.796000</td>\n",
       "      <td>0.199168</td>\n",
       "      <td>0.033508</td>\n",
       "      <td>5.847585</td>\n",
       "      <td>0.738687</td>\n",
       "      <td>1.048417</td>\n",
       "      <td>1.018167</td>\n",
       "      <td>4</td>\n",
       "      <td>3</td>\n",
       "      <td>20</td>\n",
       "      <td>19</td>\n",
       "      <td>30</td>\n",
       "    </tr>\n",
       "    <tr>\n",
       "      <th>53441</th>\n",
       "      <td>27</td>\n",
       "      <td>1.683747</td>\n",
       "      <td>4.056241</td>\n",
       "      <td>0.769081</td>\n",
       "      <td>0.046653</td>\n",
       "      <td>9.652516</td>\n",
       "      <td>1.219887</td>\n",
       "      <td>1.137474</td>\n",
       "      <td>0.010000</td>\n",
       "      <td>5</td>\n",
       "      <td>4</td>\n",
       "      <td>22</td>\n",
       "      <td>18</td>\n",
       "      <td>30</td>\n",
       "    </tr>\n",
       "  </tbody>\n",
       "</table>\n",
       "<p>53442 rows × 14 columns</p>\n",
       "</div>"
      ],
      "text/plain": [
       "       CellName  PRBUsageUL  PRBUsageDL  meanThr_DL  meanThr_UL  maxThr_DL  \\\n",
       "0             9   11.642000    1.393000    0.370000    0.041000  15.655000   \n",
       "1             5   21.791000    1.891000    0.537000    0.268000  10.273000   \n",
       "2            33    0.498000    0.398000    0.015000    0.010000   0.262000   \n",
       "3            11    1.891000    1.095000    0.940000    0.024000  60.715000   \n",
       "4             2    0.303000    0.404000    0.016000    0.013000   0.348000   \n",
       "...         ...         ...         ...         ...         ...        ...   \n",
       "53437        15    9.387395    0.864790    0.117642    0.019691   5.053038   \n",
       "53438         9   12.208672    1.393000    0.219851    0.051350   5.431194   \n",
       "53439        29    4.306775    0.689341    0.110156    0.015716   2.992853   \n",
       "53440         2    4.307854    0.796000    0.199168    0.033508   5.847585   \n",
       "53441        27    1.683747    4.056241    0.769081    0.046653   9.652516   \n",
       "\n",
       "       maxThr_UL  meanUE_DL  meanUE_UL  maxUE_DL  maxUE_UL  maxUE_UL+DL  Hour  \\\n",
       "0       0.644000   1.114000   1.025000         5         4           22    10   \n",
       "1       1.154000   1.353000   1.085000         7         5            4     9   \n",
       "2       0.164000   0.995000   0.995000         2         2           14     7   \n",
       "3       0.825000   1.035000   0.995000         3         3           19     2   \n",
       "4       0.168000   1.011000   1.011000         3         2           18     3   \n",
       "...          ...        ...        ...       ...       ...          ...   ...   \n",
       "53437   0.360296   1.068457   1.018457         5         4           22    17   \n",
       "53438   0.424812   1.239339   1.099884         5         4           23    12   \n",
       "53439   0.257998   1.039317   1.005000         4         3           20     4   \n",
       "53440   0.738687   1.048417   1.018167         4         3           20    19   \n",
       "53441   1.219887   1.137474   0.010000         5         4           22    18   \n",
       "\n",
       "       Min  \n",
       "0       45  \n",
       "1       45  \n",
       "2       45  \n",
       "3       45  \n",
       "4       30  \n",
       "...    ...  \n",
       "53437   30  \n",
       "53438   15  \n",
       "53439    0  \n",
       "53440   30  \n",
       "53441   30  \n",
       "\n",
       "[53442 rows x 14 columns]"
      ]
     },
     "execution_count": 218,
     "metadata": {},
     "output_type": "execute_result"
    }
   ],
   "source": [
    "X_sm"
   ]
  },
  {
   "cell_type": "code",
   "execution_count": 219,
   "metadata": {},
   "outputs": [
    {
     "name": "stdout",
     "output_type": "stream",
     "text": [
      "<class 'pandas.core.frame.DataFrame'>\n",
      "RangeIndex: 53442 entries, 0 to 53441\n",
      "Data columns (total 14 columns):\n",
      " #   Column       Non-Null Count  Dtype  \n",
      "---  ------       --------------  -----  \n",
      " 0   CellName     53442 non-null  int8   \n",
      " 1   PRBUsageUL   53442 non-null  float64\n",
      " 2   PRBUsageDL   53442 non-null  float64\n",
      " 3   meanThr_DL   53442 non-null  float64\n",
      " 4   meanThr_UL   53442 non-null  float64\n",
      " 5   maxThr_DL    53442 non-null  float64\n",
      " 6   maxThr_UL    53442 non-null  float64\n",
      " 7   meanUE_DL    53442 non-null  float64\n",
      " 8   meanUE_UL    53442 non-null  float64\n",
      " 9   maxUE_DL     53442 non-null  int8   \n",
      " 10  maxUE_UL     53442 non-null  int8   \n",
      " 11  maxUE_UL+DL  53442 non-null  int8   \n",
      " 12  Hour         53442 non-null  int64  \n",
      " 13  Min          53442 non-null  int64  \n",
      "dtypes: float64(8), int64(2), int8(4)\n",
      "memory usage: 4.3 MB\n"
     ]
    }
   ],
   "source": [
    "X_sm.info()"
   ]
  },
  {
   "cell_type": "code",
   "execution_count": 221,
   "metadata": {},
   "outputs": [
    {
     "data": {
      "text/plain": [
       "0        1\n",
       "1        1\n",
       "2        1\n",
       "3        1\n",
       "4        0\n",
       "        ..\n",
       "53437    1\n",
       "53438    1\n",
       "53439    1\n",
       "53440    1\n",
       "53441    1\n",
       "Name: Unusual, Length: 53442, dtype: category\n",
       "Categories (2, int64): [0 < 1]"
      ]
     },
     "execution_count": 221,
     "metadata": {},
     "output_type": "execute_result"
    }
   ],
   "source": [
    "y_sm"
   ]
  },
  {
   "cell_type": "code",
   "execution_count": 222,
   "metadata": {},
   "outputs": [
    {
     "data": {
      "text/plain": [
       "((53442, 14), (53442,))"
      ]
     },
     "execution_count": 222,
     "metadata": {},
     "output_type": "execute_result"
    }
   ],
   "source": [
    "X_sm.shape,y_sm.shape"
   ]
  },
  {
   "cell_type": "code",
   "execution_count": 224,
   "metadata": {},
   "outputs": [],
   "source": [
    "X_sm_train,X_sm_val,y_sm_train,y_sm_val = train_test_split(X_sm,\n",
    "y_sm,\n",
    " test_size= 0.2,\n",
    " random_state= 42)"
   ]
  },
  {
   "cell_type": "code",
   "execution_count": 225,
   "metadata": {},
   "outputs": [
    {
     "data": {
      "text/plain": [
       "((42753, 14), (42753,), (10689, 14), (10689,))"
      ]
     },
     "execution_count": 225,
     "metadata": {},
     "output_type": "execute_result"
    }
   ],
   "source": [
    "X_sm_train.shape,y_sm_train.shape,  X_sm_val.shape, y_sm_val.shape"
   ]
  },
  {
   "cell_type": "markdown",
   "metadata": {},
   "source": [
    "### Base Model Building (Experiment 1)\n"
   ]
  },
  {
   "cell_type": "code",
   "execution_count": 226,
   "metadata": {},
   "outputs": [],
   "source": [
    "from sklearn.ensemble import RandomForestClassifier"
   ]
  },
  {
   "cell_type": "code",
   "execution_count": 227,
   "metadata": {},
   "outputs": [
    {
     "data": {
      "text/html": [
       "<style>#sk-container-id-1 {color: black;background-color: white;}#sk-container-id-1 pre{padding: 0;}#sk-container-id-1 div.sk-toggleable {background-color: white;}#sk-container-id-1 label.sk-toggleable__label {cursor: pointer;display: block;width: 100%;margin-bottom: 0;padding: 0.3em;box-sizing: border-box;text-align: center;}#sk-container-id-1 label.sk-toggleable__label-arrow:before {content: \"▸\";float: left;margin-right: 0.25em;color: #696969;}#sk-container-id-1 label.sk-toggleable__label-arrow:hover:before {color: black;}#sk-container-id-1 div.sk-estimator:hover label.sk-toggleable__label-arrow:before {color: black;}#sk-container-id-1 div.sk-toggleable__content {max-height: 0;max-width: 0;overflow: hidden;text-align: left;background-color: #f0f8ff;}#sk-container-id-1 div.sk-toggleable__content pre {margin: 0.2em;color: black;border-radius: 0.25em;background-color: #f0f8ff;}#sk-container-id-1 input.sk-toggleable__control:checked~div.sk-toggleable__content {max-height: 200px;max-width: 100%;overflow: auto;}#sk-container-id-1 input.sk-toggleable__control:checked~label.sk-toggleable__label-arrow:before {content: \"▾\";}#sk-container-id-1 div.sk-estimator input.sk-toggleable__control:checked~label.sk-toggleable__label {background-color: #d4ebff;}#sk-container-id-1 div.sk-label input.sk-toggleable__control:checked~label.sk-toggleable__label {background-color: #d4ebff;}#sk-container-id-1 input.sk-hidden--visually {border: 0;clip: rect(1px 1px 1px 1px);clip: rect(1px, 1px, 1px, 1px);height: 1px;margin: -1px;overflow: hidden;padding: 0;position: absolute;width: 1px;}#sk-container-id-1 div.sk-estimator {font-family: monospace;background-color: #f0f8ff;border: 1px dotted black;border-radius: 0.25em;box-sizing: border-box;margin-bottom: 0.5em;}#sk-container-id-1 div.sk-estimator:hover {background-color: #d4ebff;}#sk-container-id-1 div.sk-parallel-item::after {content: \"\";width: 100%;border-bottom: 1px solid gray;flex-grow: 1;}#sk-container-id-1 div.sk-label:hover label.sk-toggleable__label {background-color: #d4ebff;}#sk-container-id-1 div.sk-serial::before {content: \"\";position: absolute;border-left: 1px solid gray;box-sizing: border-box;top: 0;bottom: 0;left: 50%;z-index: 0;}#sk-container-id-1 div.sk-serial {display: flex;flex-direction: column;align-items: center;background-color: white;padding-right: 0.2em;padding-left: 0.2em;position: relative;}#sk-container-id-1 div.sk-item {position: relative;z-index: 1;}#sk-container-id-1 div.sk-parallel {display: flex;align-items: stretch;justify-content: center;background-color: white;position: relative;}#sk-container-id-1 div.sk-item::before, #sk-container-id-1 div.sk-parallel-item::before {content: \"\";position: absolute;border-left: 1px solid gray;box-sizing: border-box;top: 0;bottom: 0;left: 50%;z-index: -1;}#sk-container-id-1 div.sk-parallel-item {display: flex;flex-direction: column;z-index: 1;position: relative;background-color: white;}#sk-container-id-1 div.sk-parallel-item:first-child::after {align-self: flex-end;width: 50%;}#sk-container-id-1 div.sk-parallel-item:last-child::after {align-self: flex-start;width: 50%;}#sk-container-id-1 div.sk-parallel-item:only-child::after {width: 0;}#sk-container-id-1 div.sk-dashed-wrapped {border: 1px dashed gray;margin: 0 0.4em 0.5em 0.4em;box-sizing: border-box;padding-bottom: 0.4em;background-color: white;}#sk-container-id-1 div.sk-label label {font-family: monospace;font-weight: bold;display: inline-block;line-height: 1.2em;}#sk-container-id-1 div.sk-label-container {text-align: center;}#sk-container-id-1 div.sk-container {/* jupyter's `normalize.less` sets `[hidden] { display: none; }` but bootstrap.min.css set `[hidden] { display: none !important; }` so we also need the `!important` here to be able to override the default hidden behavior on the sphinx rendered scikit-learn.org. See: https://github.com/scikit-learn/scikit-learn/issues/21755 */display: inline-block !important;position: relative;}#sk-container-id-1 div.sk-text-repr-fallback {display: none;}</style><div id=\"sk-container-id-1\" class=\"sk-top-container\"><div class=\"sk-text-repr-fallback\"><pre>RandomForestClassifier()</pre><b>In a Jupyter environment, please rerun this cell to show the HTML representation or trust the notebook. <br />On GitHub, the HTML representation is unable to render, please try loading this page with nbviewer.org.</b></div><div class=\"sk-container\" hidden><div class=\"sk-item\"><div class=\"sk-estimator sk-toggleable\"><input class=\"sk-toggleable__control sk-hidden--visually\" id=\"sk-estimator-id-1\" type=\"checkbox\" checked><label for=\"sk-estimator-id-1\" class=\"sk-toggleable__label sk-toggleable__label-arrow\">RandomForestClassifier</label><div class=\"sk-toggleable__content\"><pre>RandomForestClassifier()</pre></div></div></div></div></div>"
      ],
      "text/plain": [
       "RandomForestClassifier()"
      ]
     },
     "execution_count": 227,
     "metadata": {},
     "output_type": "execute_result"
    }
   ],
   "source": [
    "RFC = RandomForestClassifier()\n",
    "RFC.fit(X_sm_train,y_sm_train)"
   ]
  },
  {
   "cell_type": "code",
   "execution_count": 232,
   "metadata": {},
   "outputs": [],
   "source": [
    "y_sm_preds = RFC.predict(X_sm_val)"
   ]
  },
  {
   "cell_type": "code",
   "execution_count": 233,
   "metadata": {},
   "outputs": [
    {
     "data": {
      "text/plain": [
       "array([0, 0, 1, ..., 1, 0, 1], dtype=int64)"
      ]
     },
     "execution_count": 233,
     "metadata": {},
     "output_type": "execute_result"
    }
   ],
   "source": [
    "y_sm_preds"
   ]
  },
  {
   "cell_type": "code",
   "execution_count": 234,
   "metadata": {},
   "outputs": [
    {
     "data": {
      "text/plain": [
       "2322     0\n",
       "9803     0\n",
       "44441    1\n",
       "44689    1\n",
       "10476    1\n",
       "        ..\n",
       "16358    0\n",
       "24711    0\n",
       "49367    1\n",
       "28566    0\n",
       "45271    1\n",
       "Name: Unusual, Length: 10689, dtype: category\n",
       "Categories (2, int64): [0 < 1]"
      ]
     },
     "execution_count": 234,
     "metadata": {},
     "output_type": "execute_result"
    }
   ],
   "source": [
    "y_sm_val"
   ]
  },
  {
   "cell_type": "code",
   "execution_count": 235,
   "metadata": {},
   "outputs": [],
   "source": [
    "#Evaluation\n",
    "from sklearn.metrics import classification_report"
   ]
  },
  {
   "cell_type": "code",
   "execution_count": 236,
   "metadata": {},
   "outputs": [
    {
     "name": "stdout",
     "output_type": "stream",
     "text": [
      "              precision    recall  f1-score   support\n",
      "\n",
      "           0       0.94      0.96      0.95      5366\n",
      "           1       0.96      0.94      0.95      5323\n",
      "\n",
      "    accuracy                           0.95     10689\n",
      "   macro avg       0.95      0.95      0.95     10689\n",
      "weighted avg       0.95      0.95      0.95     10689\n",
      "\n"
     ]
    }
   ],
   "source": [
    "print(classification_report(y_true=y_sm_val,y_pred=y_sm_preds))"
   ]
  }
 ],
 "metadata": {
  "kernelspec": {
   "display_name": "Python 3.10.5 ('ADVenv': venv)",
   "language": "python",
   "name": "python3"
  },
  "language_info": {
   "codemirror_mode": {
    "name": "ipython",
    "version": 3
   },
   "file_extension": ".py",
   "mimetype": "text/x-python",
   "name": "python",
   "nbconvert_exporter": "python",
   "pygments_lexer": "ipython3",
   "version": "3.10.5"
  },
  "orig_nbformat": 4,
  "vscode": {
   "interpreter": {
    "hash": "cfc95a9f87f6138e49d0125af62838affc2a7f2d4b69af581cdbeb9ee78df70b"
   }
  }
 },
 "nbformat": 4,
 "nbformat_minor": 2
}
