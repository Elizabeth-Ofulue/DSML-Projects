{
 "cells": [
  {
   "cell_type": "code",
   "execution_count": 8,
   "metadata": {},
   "outputs": [],
   "source": [
    "# # Importing Libraries \n",
    "\n",
    "# # Data Manipulation\n",
    "# import pandas as pd\n",
    "# import numpy as np\n",
    "\n",
    "# # For Saving the Model\n",
    "# import joblib\n",
    "\n",
    "# # from Scikit-learn\n",
    "# from sklearn.feature_selection import SelectFromModel\n",
    "# from sklearn.ensemble import RandomForestClassifier\n",
    "# from sklearn.pipeline import Pipeline\n",
    "# from sklearn.preprocessing import MinMaxScaler, Binarizer\n",
    "\n",
    "# # from feature-engine\n",
    "\n",
    "# import feature_engine\n",
    "\n",
    "# from feature_engine.imputation import (\n",
    "#     AddMissingIndicator,\n",
    "#     MeanMedianImputer,\n",
    "#     CategoricalImputer,\n",
    "# )\n",
    "\n",
    "# from feature_engine.enconding import (\n",
    "#     OrdinalEncoder\n",
    "    \n",
    "# )\n",
    "\n",
    "# from feature_engine.selection import DropFeatures\n",
    "# from feature_engine.wrappers import SklearnTransformerWrapper\n",
    "\n",
    "# import preprocessors as pp\n",
    "\n",
    "\n"
   ]
  },
  {
   "cell_type": "code",
   "execution_count": null,
   "metadata": {},
   "outputs": [],
   "source": []
  }
 ],
 "metadata": {
  "kernelspec": {
   "display_name": "Python 3 (ipykernel)",
   "language": "python",
   "name": "python3"
  },
  "language_info": {
   "codemirror_mode": {
    "name": "ipython",
    "version": 3
   },
   "file_extension": ".py",
   "mimetype": "text/x-python",
   "name": "python",
   "nbconvert_exporter": "python",
   "pygments_lexer": "ipython3",
   "version": "3.10.5"
  },
  "vscode": {
   "interpreter": {
    "hash": "217f810cef36e78dc9394d2d101240b7db7fea40b0a2e14271a26603ac999663"
   }
  }
 },
 "nbformat": 4,
 "nbformat_minor": 2
}
