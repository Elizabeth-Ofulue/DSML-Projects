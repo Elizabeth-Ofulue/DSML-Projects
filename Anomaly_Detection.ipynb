{
  "nbformat": 4,
  "nbformat_minor": 0,
  "metadata": {
    "colab": {
      "name": "Anomaly_Detection",
      "provenance": [],
      "authorship_tag": "ABX9TyMVU1ZInSod/E+DDTrwG1Vu",
      "include_colab_link": true
    },
    "kernelspec": {
      "name": "python3",
      "display_name": "Python 3"
    },
    "language_info": {
      "name": "python"
    }
  },
  "cells": [
    {
      "cell_type": "markdown",
      "metadata": {
        "id": "view-in-github",
        "colab_type": "text"
      },
      "source": [
        "<a href=\"https://colab.research.google.com/github/Elizabeth-Ofulue/DSML-Projects/blob/toyin/Anomaly_Detection.ipynb\" target=\"_parent\"><img src=\"https://colab.research.google.com/assets/colab-badge.svg\" alt=\"Open In Colab\"/></a>"
      ]
    },
    {
      "cell_type": "markdown",
      "source": [
        "##Anomaly Detection\n",
        "\n",
        "1. Introduction\n",
        "\n",
        "The purpose of this homework is to solve a classification problem proposed as a competition in the Kaggle InClass platform, where each team of two members will try to get the maximum score. You can apply any of the concepts and techniques studied in class for exploratory data analysis, feature selection and \n",
        "classification.\n",
        "\n",
        "2. Problem description\n",
        "\n",
        "Context:\n",
        "Traditionally, the design of a cellular network focuses on the optimization of energy and resources that guarantees a smooth operation even during peak hours (i.e. periods with higher traffic load). However, this implies that cells are most of the time overprovisioned of radio resources. Next generation cellular networks ask for a dynamic management and configuration in order to adapt to the varying user demands in the most efficient way with regards to energy savings and utilization of frequency resources. If the network operator were capable of anticipating to those variations in the users’ traffic demands, a more efficient management of the scarce (and expensive) network resources would be possible.\n",
        "Current research in mobile networks looks upon Machine Learning (ML) techniques to help manage those resources. In this case, you will explore the possibilities of ML to detect abnormal behaviors in the utilization of the network that would motivate a change in the configuration of the base station.\n",
        "\n",
        "Goal:\n",
        "The objective of the network optimization team is to analyze traces of past activity, which will be used to train an ML system capable of classifying samples of current activity as:\n",
        "• 0 (normal): current activity corresponds to normal behavior of any working day and. Therefore, no re-configuration or redistribution of resources is needed.\n",
        "• 1 (unusual): current activity slightly differs from the behavior usually observed for that time of the day (e.g. due to a strike, demonstration, sports event, etc.), which should trigger a reconfiguration of the base station.\n",
        "\n",
        "Content:\n",
        "The dataset has been obtained from a real LTE deployment. During two weeks, different metrics were gathered from a set of 10 base stations, each having a different number of cells, every 15 minutes. The dataset is provided in the form of a csv file, where each row corresponds to a sample obtained from one particular cell at a certain time. Each data example contains the following features:\n",
        "\n",
        "• Time : hour of the day (in the format hh:mm) when the sample was generated.\n",
        "• CellName1: text string used to uniquely identify the cell that generated the current sample. CellName is in the form xαLTE, where x identifies the base station, and α the cell within that base station (see the example in the right figure).\n",
        "• PRBUsageUL and PRBUsageDL: level of resource utilization in that cell measured as the portion of Physical Radio Blocks (PRB) that were in use (%) in the previous 15 minutes. Uplink (UL) and downlink (DL) are measured separately.\n",
        "• meanThrDL and meanThrUL: average carried traffic (in Mbps) during the past 15 minutes. Uplink (UL) and downlink (DL) are measured separately.\n",
        "• maxThrDL and maxThrUL: maximum carried traffic (in Mbps) measured in the last 15 minutes. Uplink (UL) and downlink (DL) are measured separately.\n",
        "• meanUEDL and meanUEUL: average number of user equipment (UE) devices that were simultaneously active during the last 15 minutes. Uplink (UL) and downlink (DL) are measured separately.\n",
        "• maxUEDL and maxUEUL: maximum number of user equipment (UE) devices that were simultaneously active during the last 15 minutes. Uplink (UL) and downlink (DL) are measured separately.\n",
        "• maxUE_UL+DL: maximum number of user equipment (UE) devices that were active simultaneously in the last 15 minutes, regardless of UL and DL.\n",
        "\n",
        "• Unusual: labels for supervised learning. A value of 0 determines that the sample corresponds to normal operation, a value of 1 identifies unusual behavior."
      ],
      "metadata": {
        "id": "bxi8h0DjtXcx"
      }
    },
    {
      "cell_type": "code",
      "execution_count": 1,
      "metadata": {
        "colab": {
          "base_uri": "https://localhost:8080/"
        },
        "id": "vioTIMfXgizM",
        "outputId": "af4e30c8-f2dc-43e1-c7b6-0982166e760d"
      },
      "outputs": [
        {
          "output_type": "stream",
          "name": "stdout",
          "text": [
            "Mounted at /content/gdrive\n"
          ]
        }
      ],
      "source": [
        ""
      ]
    },
    {
      "cell_type": "code",
      "source": [
        "import os\n",
        "os.environ['KAGGLE_CONFIG_DIR'] = \"/content/gdrive/My Drive/Kaggle\""
      ],
      "metadata": {
        "id": "auZZsxYagox8"
      },
      "execution_count": 2,
      "outputs": []
    },
    {
      "cell_type": "code",
      "source": [
        "%cd /content/gdrive/My Drive/Kaggle"
      ],
      "metadata": {
        "colab": {
          "base_uri": "https://localhost:8080/"
        },
        "id": "fw_7mfAigo1z",
        "outputId": "5c10ee74-b9e1-4454-a986-b678001fe4da"
      },
      "execution_count": 3,
      "outputs": [
        {
          "output_type": "stream",
          "name": "stdout",
          "text": [
            "/content/gdrive/My Drive/Kaggle\n"
          ]
        }
      ]
    },
    {
      "cell_type": "code",
      "source": [
        "! kaggle competitions download -c anomaly-detection-in-cellular-networks"
      ],
      "metadata": {
        "colab": {
          "base_uri": "https://localhost:8080/"
        },
        "id": "OI0mlpRLg5cb",
        "outputId": "70f62ba7-e9eb-413f-caa9-44a96ce3b2de"
      },
      "execution_count": 4,
      "outputs": [
        {
          "output_type": "stream",
          "name": "stdout",
          "text": [
            "Downloading anomaly-detection-in-cellular-networks.zip to /content/gdrive/My Drive/Kaggle\n",
            "\r  0% 0.00/976k [00:00<?, ?B/s]\n",
            "\r100% 976k/976k [00:00<00:00, 67.1MB/s]\n"
          ]
        }
      ]
    },
    {
      "cell_type": "code",
      "source": [
        "! unzip \\*.zip  && rm *.zip"
      ],
      "metadata": {
        "colab": {
          "base_uri": "https://localhost:8080/"
        },
        "id": "Z16yUKXqhLPm",
        "outputId": "3cbe5fbd-24d7-45b9-b16c-1c1f671e7764"
      },
      "execution_count": 5,
      "outputs": [
        {
          "output_type": "stream",
          "name": "stdout",
          "text": [
            "Archive:  anomaly-detection-in-cellular-networks.zip\n",
            "  inflating: ML-MATT-CompetitionQT1920_test.csv  \n",
            "  inflating: ML-MATT-CompetitionQT1920_train.csv  \n"
          ]
        }
      ]
    },
    {
      "cell_type": "code",
      "source": [
        "import pandas as pd\n",
        "import numpy as np\n",
        "from matplotlib import pyplot as plt\n",
        "%matplotlib inline"
      ],
      "metadata": {
        "id": "b4N1wGVuhpvp"
      },
      "execution_count": 14,
      "outputs": []
    },
    {
      "cell_type": "markdown",
      "source": [
        "The purpose of this project is geared towards implementing a scalable generation of cellular networks to adapt to the varying user demands in the most efficient ways with regards to energy savings and utiilization of frquency resources. "
      ],
      "metadata": {
        "id": "pmh8OpTor--E"
      }
    },
    {
      "cell_type": "code",
      "source": [
        "train_df = pd.read_csv(\"ML-MATT-CompetitionQT1920_train.csv\", encoding = \"ISO-8859-1\")"
      ],
      "metadata": {
        "id": "9pj9lh_DiNiT"
      },
      "execution_count": 15,
      "outputs": []
    },
    {
      "cell_type": "code",
      "source": [
        "train_df.head()"
      ],
      "metadata": {
        "colab": {
          "base_uri": "https://localhost:8080/",
          "height": 206
        },
        "id": "kPHFoVj5iNlg",
        "outputId": "6eeb77ba-6d65-4a85-eae1-82cdaca180ee"
      },
      "execution_count": 16,
      "outputs": [
        {
          "output_type": "execute_result",
          "data": {
            "text/plain": [
              "    Time CellName  PRBUsageUL  PRBUsageDL  meanThr_DL  meanThr_UL  maxThr_DL  \\\n",
              "0  10:45    3BLTE      11.642       1.393       0.370       0.041     15.655   \n",
              "1   9:45    1BLTE      21.791       1.891       0.537       0.268     10.273   \n",
              "2   7:45    9BLTE       0.498       0.398       0.015       0.010      0.262   \n",
              "3   2:45    4ALTE       1.891       1.095       0.940       0.024     60.715   \n",
              "4   3:30   10BLTE       0.303       0.404       0.016       0.013      0.348   \n",
              "\n",
              "   maxThr_UL  meanUE_DL  meanUE_UL  maxUE_DL  maxUE_UL maxUE_UL+DL  Unusual  \n",
              "0      0.644      1.114      1.025       4.0       3.0           7        1  \n",
              "1      1.154      1.353      1.085       6.0       4.0          10        1  \n",
              "2      0.164      0.995      0.995       1.0       1.0           2        1  \n",
              "3      0.825      1.035      0.995       2.0       2.0           4        1  \n",
              "4      0.168      1.011      1.011       2.0       1.0           3        0  "
            ],
            "text/html": [
              "\n",
              "  <div id=\"df-93c7375c-5c15-4a63-ac68-9a17b93aad78\">\n",
              "    <div class=\"colab-df-container\">\n",
              "      <div>\n",
              "<style scoped>\n",
              "    .dataframe tbody tr th:only-of-type {\n",
              "        vertical-align: middle;\n",
              "    }\n",
              "\n",
              "    .dataframe tbody tr th {\n",
              "        vertical-align: top;\n",
              "    }\n",
              "\n",
              "    .dataframe thead th {\n",
              "        text-align: right;\n",
              "    }\n",
              "</style>\n",
              "<table border=\"1\" class=\"dataframe\">\n",
              "  <thead>\n",
              "    <tr style=\"text-align: right;\">\n",
              "      <th></th>\n",
              "      <th>Time</th>\n",
              "      <th>CellName</th>\n",
              "      <th>PRBUsageUL</th>\n",
              "      <th>PRBUsageDL</th>\n",
              "      <th>meanThr_DL</th>\n",
              "      <th>meanThr_UL</th>\n",
              "      <th>maxThr_DL</th>\n",
              "      <th>maxThr_UL</th>\n",
              "      <th>meanUE_DL</th>\n",
              "      <th>meanUE_UL</th>\n",
              "      <th>maxUE_DL</th>\n",
              "      <th>maxUE_UL</th>\n",
              "      <th>maxUE_UL+DL</th>\n",
              "      <th>Unusual</th>\n",
              "    </tr>\n",
              "  </thead>\n",
              "  <tbody>\n",
              "    <tr>\n",
              "      <th>0</th>\n",
              "      <td>10:45</td>\n",
              "      <td>3BLTE</td>\n",
              "      <td>11.642</td>\n",
              "      <td>1.393</td>\n",
              "      <td>0.370</td>\n",
              "      <td>0.041</td>\n",
              "      <td>15.655</td>\n",
              "      <td>0.644</td>\n",
              "      <td>1.114</td>\n",
              "      <td>1.025</td>\n",
              "      <td>4.0</td>\n",
              "      <td>3.0</td>\n",
              "      <td>7</td>\n",
              "      <td>1</td>\n",
              "    </tr>\n",
              "    <tr>\n",
              "      <th>1</th>\n",
              "      <td>9:45</td>\n",
              "      <td>1BLTE</td>\n",
              "      <td>21.791</td>\n",
              "      <td>1.891</td>\n",
              "      <td>0.537</td>\n",
              "      <td>0.268</td>\n",
              "      <td>10.273</td>\n",
              "      <td>1.154</td>\n",
              "      <td>1.353</td>\n",
              "      <td>1.085</td>\n",
              "      <td>6.0</td>\n",
              "      <td>4.0</td>\n",
              "      <td>10</td>\n",
              "      <td>1</td>\n",
              "    </tr>\n",
              "    <tr>\n",
              "      <th>2</th>\n",
              "      <td>7:45</td>\n",
              "      <td>9BLTE</td>\n",
              "      <td>0.498</td>\n",
              "      <td>0.398</td>\n",
              "      <td>0.015</td>\n",
              "      <td>0.010</td>\n",
              "      <td>0.262</td>\n",
              "      <td>0.164</td>\n",
              "      <td>0.995</td>\n",
              "      <td>0.995</td>\n",
              "      <td>1.0</td>\n",
              "      <td>1.0</td>\n",
              "      <td>2</td>\n",
              "      <td>1</td>\n",
              "    </tr>\n",
              "    <tr>\n",
              "      <th>3</th>\n",
              "      <td>2:45</td>\n",
              "      <td>4ALTE</td>\n",
              "      <td>1.891</td>\n",
              "      <td>1.095</td>\n",
              "      <td>0.940</td>\n",
              "      <td>0.024</td>\n",
              "      <td>60.715</td>\n",
              "      <td>0.825</td>\n",
              "      <td>1.035</td>\n",
              "      <td>0.995</td>\n",
              "      <td>2.0</td>\n",
              "      <td>2.0</td>\n",
              "      <td>4</td>\n",
              "      <td>1</td>\n",
              "    </tr>\n",
              "    <tr>\n",
              "      <th>4</th>\n",
              "      <td>3:30</td>\n",
              "      <td>10BLTE</td>\n",
              "      <td>0.303</td>\n",
              "      <td>0.404</td>\n",
              "      <td>0.016</td>\n",
              "      <td>0.013</td>\n",
              "      <td>0.348</td>\n",
              "      <td>0.168</td>\n",
              "      <td>1.011</td>\n",
              "      <td>1.011</td>\n",
              "      <td>2.0</td>\n",
              "      <td>1.0</td>\n",
              "      <td>3</td>\n",
              "      <td>0</td>\n",
              "    </tr>\n",
              "  </tbody>\n",
              "</table>\n",
              "</div>\n",
              "      <button class=\"colab-df-convert\" onclick=\"convertToInteractive('df-93c7375c-5c15-4a63-ac68-9a17b93aad78')\"\n",
              "              title=\"Convert this dataframe to an interactive table.\"\n",
              "              style=\"display:none;\">\n",
              "        \n",
              "  <svg xmlns=\"http://www.w3.org/2000/svg\" height=\"24px\"viewBox=\"0 0 24 24\"\n",
              "       width=\"24px\">\n",
              "    <path d=\"M0 0h24v24H0V0z\" fill=\"none\"/>\n",
              "    <path d=\"M18.56 5.44l.94 2.06.94-2.06 2.06-.94-2.06-.94-.94-2.06-.94 2.06-2.06.94zm-11 1L8.5 8.5l.94-2.06 2.06-.94-2.06-.94L8.5 2.5l-.94 2.06-2.06.94zm10 10l.94 2.06.94-2.06 2.06-.94-2.06-.94-.94-2.06-.94 2.06-2.06.94z\"/><path d=\"M17.41 7.96l-1.37-1.37c-.4-.4-.92-.59-1.43-.59-.52 0-1.04.2-1.43.59L10.3 9.45l-7.72 7.72c-.78.78-.78 2.05 0 2.83L4 21.41c.39.39.9.59 1.41.59.51 0 1.02-.2 1.41-.59l7.78-7.78 2.81-2.81c.8-.78.8-2.07 0-2.86zM5.41 20L4 18.59l7.72-7.72 1.47 1.35L5.41 20z\"/>\n",
              "  </svg>\n",
              "      </button>\n",
              "      \n",
              "  <style>\n",
              "    .colab-df-container {\n",
              "      display:flex;\n",
              "      flex-wrap:wrap;\n",
              "      gap: 12px;\n",
              "    }\n",
              "\n",
              "    .colab-df-convert {\n",
              "      background-color: #E8F0FE;\n",
              "      border: none;\n",
              "      border-radius: 50%;\n",
              "      cursor: pointer;\n",
              "      display: none;\n",
              "      fill: #1967D2;\n",
              "      height: 32px;\n",
              "      padding: 0 0 0 0;\n",
              "      width: 32px;\n",
              "    }\n",
              "\n",
              "    .colab-df-convert:hover {\n",
              "      background-color: #E2EBFA;\n",
              "      box-shadow: 0px 1px 2px rgba(60, 64, 67, 0.3), 0px 1px 3px 1px rgba(60, 64, 67, 0.15);\n",
              "      fill: #174EA6;\n",
              "    }\n",
              "\n",
              "    [theme=dark] .colab-df-convert {\n",
              "      background-color: #3B4455;\n",
              "      fill: #D2E3FC;\n",
              "    }\n",
              "\n",
              "    [theme=dark] .colab-df-convert:hover {\n",
              "      background-color: #434B5C;\n",
              "      box-shadow: 0px 1px 3px 1px rgba(0, 0, 0, 0.15);\n",
              "      filter: drop-shadow(0px 1px 2px rgba(0, 0, 0, 0.3));\n",
              "      fill: #FFFFFF;\n",
              "    }\n",
              "  </style>\n",
              "\n",
              "      <script>\n",
              "        const buttonEl =\n",
              "          document.querySelector('#df-93c7375c-5c15-4a63-ac68-9a17b93aad78 button.colab-df-convert');\n",
              "        buttonEl.style.display =\n",
              "          google.colab.kernel.accessAllowed ? 'block' : 'none';\n",
              "\n",
              "        async function convertToInteractive(key) {\n",
              "          const element = document.querySelector('#df-93c7375c-5c15-4a63-ac68-9a17b93aad78');\n",
              "          const dataTable =\n",
              "            await google.colab.kernel.invokeFunction('convertToInteractive',\n",
              "                                                     [key], {});\n",
              "          if (!dataTable) return;\n",
              "\n",
              "          const docLinkHtml = 'Like what you see? Visit the ' +\n",
              "            '<a target=\"_blank\" href=https://colab.research.google.com/notebooks/data_table.ipynb>data table notebook</a>'\n",
              "            + ' to learn more about interactive tables.';\n",
              "          element.innerHTML = '';\n",
              "          dataTable['output_type'] = 'display_data';\n",
              "          await google.colab.output.renderOutput(dataTable, element);\n",
              "          const docLink = document.createElement('div');\n",
              "          docLink.innerHTML = docLinkHtml;\n",
              "          element.appendChild(docLink);\n",
              "        }\n",
              "      </script>\n",
              "    </div>\n",
              "  </div>\n",
              "  "
            ]
          },
          "metadata": {},
          "execution_count": 16
        }
      ]
    },
    {
      "cell_type": "code",
      "source": [
        "train_df.info()"
      ],
      "metadata": {
        "colab": {
          "base_uri": "https://localhost:8080/"
        },
        "id": "dia92QfciNqD",
        "outputId": "9559441c-12b4-4603-e19e-483b16cbde62"
      },
      "execution_count": 17,
      "outputs": [
        {
          "output_type": "stream",
          "name": "stdout",
          "text": [
            "<class 'pandas.core.frame.DataFrame'>\n",
            "RangeIndex: 36904 entries, 0 to 36903\n",
            "Data columns (total 14 columns):\n",
            " #   Column       Non-Null Count  Dtype  \n",
            "---  ------       --------------  -----  \n",
            " 0   Time         36904 non-null  object \n",
            " 1   CellName     36904 non-null  object \n",
            " 2   PRBUsageUL   36904 non-null  float64\n",
            " 3   PRBUsageDL   36904 non-null  float64\n",
            " 4   meanThr_DL   36904 non-null  float64\n",
            " 5   meanThr_UL   36904 non-null  float64\n",
            " 6   maxThr_DL    36904 non-null  float64\n",
            " 7   maxThr_UL    36904 non-null  float64\n",
            " 8   meanUE_DL    36904 non-null  float64\n",
            " 9   meanUE_UL    36904 non-null  float64\n",
            " 10  maxUE_DL     36815 non-null  float64\n",
            " 11  maxUE_UL     36815 non-null  float64\n",
            " 12  maxUE_UL+DL  36899 non-null  object \n",
            " 13  Unusual      36904 non-null  int64  \n",
            "dtypes: float64(10), int64(1), object(3)\n",
            "memory usage: 3.9+ MB\n"
          ]
        }
      ]
    },
    {
      "cell_type": "code",
      "source": [
        "train_df.groupby(['Unusual']).count()['Time']"
      ],
      "metadata": {
        "colab": {
          "base_uri": "https://localhost:8080/"
        },
        "id": "OxWlYMXqiNst",
        "outputId": "7427424d-92fd-4fb9-d6ca-cc529cd8a711"
      },
      "execution_count": 18,
      "outputs": [
        {
          "output_type": "execute_result",
          "data": {
            "text/plain": [
              "Unusual\n",
              "0    26721\n",
              "1    10183\n",
              "Name: Time, dtype: int64"
            ]
          },
          "metadata": {},
          "execution_count": 18
        }
      ]
    },
    {
      "cell_type": "code",
      "source": [
        "#This is used to check for the number of blank cells in each column\n",
        "train_df.isna().sum()"
      ],
      "metadata": {
        "colab": {
          "base_uri": "https://localhost:8080/"
        },
        "id": "STlt4tjr1pab",
        "outputId": "90c06bf2-ef21-40be-86b2-c1f910e8c63e"
      },
      "execution_count": 24,
      "outputs": [
        {
          "output_type": "execute_result",
          "data": {
            "text/plain": [
              "Time           0\n",
              "CellName       0\n",
              "PRBUsageUL     0\n",
              "PRBUsageDL     0\n",
              "meanThr_DL     0\n",
              "meanThr_UL     0\n",
              "maxThr_DL      0\n",
              "maxThr_UL      0\n",
              "meanUE_DL      0\n",
              "meanUE_UL      0\n",
              "maxUE_DL       0\n",
              "maxUE_UL       0\n",
              "maxUE_UL+DL    0\n",
              "Unusual        0\n",
              "dtype: int64"
            ]
          },
          "metadata": {},
          "execution_count": 24
        }
      ]
    },
    {
      "cell_type": "code",
      "source": [
        "# Iterate over each column\n",
        "for col in train_df:\n",
        "    # Check if the column has null values\n",
        "    if train_df[col].isna().sum() > 0:\n",
        "        # Impute with the blank cells with 0 since the columns are float \n",
        "        train_df[col].fillna(0, inplace=True)"
      ],
      "metadata": {
        "id": "Fb6M2Akx3CZq"
      },
      "execution_count": 23,
      "outputs": []
    },
    {
      "cell_type": "code",
      "source": [
        "#import seaborn as sns\n",
        "\n",
        "\n",
        "plt.figure(figsize=(15, 10))\n",
        "sns.countplot(x='CellName', hue='Unusual', data=train_df, palette='RdBu')\n",
        "#plt.xticks([0,1], ['No', 'Yes'])\n",
        "plt.xticks(rotation = 90)\n",
        "plt.show()\n",
        "\n"
      ],
      "metadata": {
        "colab": {
          "base_uri": "https://localhost:8080/",
          "height": 631
        },
        "id": "4oEzikfI4NGt",
        "outputId": "ce38eca7-e3c8-4e54-c399-efcd3aa24e77"
      },
      "execution_count": 32,
      "outputs": [
        {
          "output_type": "display_data",
          "data": {
            "text/plain": [
              "<Figure size 1080x720 with 1 Axes>"
            ],
            "image/png": "[encoded data removed]"
          },
          "metadata": {
            "needs_background": "light"
          }
        }
      ]
    },
    {
      "cell_type": "code",
      "source": [
        ""
      ],
      "metadata": {
        "id": "7vqNLCcPqsQ7"
      },
      "execution_count": null,
      "outputs": []
    }
  ]
}